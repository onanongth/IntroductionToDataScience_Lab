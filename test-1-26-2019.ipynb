{
 "cells": [
  {
   "cell_type": "code",
   "execution_count": 1,
   "metadata": {},
   "outputs": [],
   "source": [
    "# function without returned values\n",
    "def greetEnglish():\n",
    "    print(\"Hello\")"
   ]
  },
  {
   "cell_type": "code",
   "execution_count": 2,
   "metadata": {},
   "outputs": [
    {
     "name": "stdout",
     "output_type": "stream",
     "text": [
      "Hello\n"
     ]
    }
   ],
   "source": [
    "greetEnglish()"
   ]
  },
  {
   "cell_type": "code",
   "execution_count": 3,
   "metadata": {},
   "outputs": [],
   "source": [
    "# function without parameters\n",
    "def whereAreYouFrom(country):\n",
    "    print(\"I come from\", country)"
   ]
  },
  {
   "cell_type": "code",
   "execution_count": 5,
   "metadata": {},
   "outputs": [
    {
     "name": "stdout",
     "output_type": "stream",
     "text": [
      "I come from London\n"
     ]
    }
   ],
   "source": [
    "whereAreYouFrom(\"London\")"
   ]
  },
  {
   "cell_type": "code",
   "execution_count": 6,
   "metadata": {},
   "outputs": [],
   "source": [
    "def maxValue(a,b,c):\n",
    "    if(a>=b and a>=c):\n",
    "        return a\n",
    "    else:\n",
    "        if(b>=a and b>=c):\n",
    "            return b\n",
    "        else:\n",
    "            return c"
   ]
  },
  {
   "cell_type": "code",
   "execution_count": 11,
   "metadata": {},
   "outputs": [
    {
     "data": {
      "text/plain": [
       "12"
      ]
     },
     "execution_count": 11,
     "metadata": {},
     "output_type": "execute_result"
    }
   ],
   "source": [
    "maxValue(5,12,5)"
   ]
  },
  {
   "cell_type": "code",
   "execution_count": 12,
   "metadata": {},
   "outputs": [],
   "source": [
    "# function has a Docstrng.\n",
    "def findFirst(s, dataList):\n",
    "    \"\"\"return the first occurence of s in dataList\"\"\"\n",
    "    for e in range(len(dataList)):\n",
    "        if(dataList[e] == s):\n",
    "            return e\n",
    "        return -1"
   ]
  },
  {
   "cell_type": "code",
   "execution_count": 13,
   "metadata": {},
   "outputs": [
    {
     "name": "stdout",
     "output_type": "stream",
     "text": [
      "return the first occurence of s in dataList\n"
     ]
    }
   ],
   "source": [
    "print(findFirst.__doc__)"
   ]
  },
  {
   "cell_type": "code",
   "execution_count": 14,
   "metadata": {},
   "outputs": [
    {
     "name": "stdout",
     "output_type": "stream",
     "text": [
      "s =  -1\n",
      "f =  -1\n"
     ]
    }
   ],
   "source": [
    "lis = [1,2,3,4,3]\n",
    "s = findFirst(4,lis)\n",
    "print(\"s = \",s)\n",
    "names = ['xb','xc','aa','ab']\n",
    "f = findFirst('aa',names)\n",
    "print(\"f = \",f)"
   ]
  },
  {
   "cell_type": "code",
   "execution_count": 16,
   "metadata": {},
   "outputs": [],
   "source": [
    "# Scope and Lifetime of variables\n",
    "def f_x(x):\n",
    "    x = x + 5  # x is a parameter\n",
    "    print(x)"
   ]
  },
  {
   "cell_type": "code",
   "execution_count": 17,
   "metadata": {},
   "outputs": [
    {
     "name": "stdout",
     "output_type": "stream",
     "text": [
      "15\n",
      "after calling f_x(x), x =  10\n"
     ]
    }
   ],
   "source": [
    "x = 10\n",
    "f_x(x)\n",
    "print(\"after calling f_x(x), x = \",x)"
   ]
  },
  {
   "cell_type": "code",
   "execution_count": 18,
   "metadata": {},
   "outputs": [],
   "source": [
    "# pass by reference\n",
    "def change(lis,abc):\n",
    "    lis.append(abc)\n",
    "    \n",
    "def changeAtFirst(lis,abc):\n",
    "    lis[0] = abc"
   ]
  },
  {
   "cell_type": "code",
   "execution_count": 19,
   "metadata": {},
   "outputs": [
    {
     "name": "stdout",
     "output_type": "stream",
     "text": [
      "['Green', 'Red', 'Yellow']\n"
     ]
    }
   ],
   "source": [
    "l = [\"Green\",\"Red\"]\n",
    "change(l,\"Yellow\")\n",
    "print(l)"
   ]
  },
  {
   "cell_type": "code",
   "execution_count": 22,
   "metadata": {},
   "outputs": [
    {
     "name": "stdout",
     "output_type": "stream",
     "text": [
      "['White', 'Red', 'Yellow']\n",
      "['red', 'Red', 'Yellow']\n"
     ]
    }
   ],
   "source": [
    "changeAtFirst(l,\"White\")\n",
    "print(l)\n",
    "first = changeAtFirst\n",
    "first(l,\"red\")\n",
    "print(l)"
   ]
  },
  {
   "cell_type": "code",
   "execution_count": 26,
   "metadata": {},
   "outputs": [
    {
     "name": "stdout",
     "output_type": "stream",
     "text": [
      "['Apple', 'Banana']\n"
     ]
    }
   ],
   "source": [
    "myLis = list()\n",
    "myLis.append(\"Apple\")\n",
    "myLis.append(\"Banana\")\n",
    "print(myLis)"
   ]
  },
  {
   "cell_type": "code",
   "execution_count": 27,
   "metadata": {},
   "outputs": [],
   "source": [
    "def printrow(n, c = '*'):\n",
    "    for i in range(n):\n",
    "        print(c)"
   ]
  },
  {
   "cell_type": "code",
   "execution_count": 28,
   "metadata": {},
   "outputs": [
    {
     "name": "stdout",
     "output_type": "stream",
     "text": [
      "*\n",
      "*\n",
      "*\n",
      "*\n",
      "*\n"
     ]
    }
   ],
   "source": [
    "printrow(5)"
   ]
  },
  {
   "cell_type": "code",
   "execution_count": 29,
   "metadata": {},
   "outputs": [],
   "source": [
    "# vary the number of parameters\n",
    "def greetMany(*people):\n",
    "    for p in people:\n",
    "        print(\"Hello \",p)"
   ]
  },
  {
   "cell_type": "code",
   "execution_count": 32,
   "metadata": {},
   "outputs": [
    {
     "name": "stdout",
     "output_type": "stream",
     "text": [
      "Hello  GunGun\n",
      "Hello  Nutchanon\n",
      "Hello  Srichom\n"
     ]
    }
   ],
   "source": [
    "greetMany(\"GunGun\",\"Nutchanon\",\"Srichom\")"
   ]
  },
  {
   "cell_type": "code",
   "execution_count": 33,
   "metadata": {},
   "outputs": [],
   "source": [
    "# factorial\n",
    "def fac(n):\n",
    "    \"\"\"this is a recurive function\n",
    "    to find the factorial of an integer\"\"\"\n",
    "    if(n==1 or n==0):\n",
    "        return 1\n",
    "    else:\n",
    "        return n*fac(n-1)"
   ]
  },
  {
   "cell_type": "code",
   "execution_count": 34,
   "metadata": {},
   "outputs": [
    {
     "data": {
      "text/plain": [
       "120"
      ]
     },
     "execution_count": 34,
     "metadata": {},
     "output_type": "execute_result"
    }
   ],
   "source": [
    "fac(5)"
   ]
  },
  {
   "cell_type": "code",
   "execution_count": 35,
   "metadata": {},
   "outputs": [],
   "source": [
    "# Python Anonymous/Lambda Function\n",
    "# ฟังก์ชันนิรนาม\n",
    "# รูปแบบ Lambda parameterList: body\n",
    "\n",
    "fx = lambda x: x*x\n",
    "\n",
    "fbi = lambda x,y: x**2 + 3*y\n",
    "\n",
    "fp = lambda x: print(\"x = \",x)"
   ]
  },
  {
   "cell_type": "code",
   "execution_count": 38,
   "metadata": {},
   "outputs": [
    {
     "data": {
      "text/plain": [
       "25"
      ]
     },
     "execution_count": 38,
     "metadata": {},
     "output_type": "execute_result"
    }
   ],
   "source": [
    "fx(5)"
   ]
  },
  {
   "cell_type": "code",
   "execution_count": 39,
   "metadata": {},
   "outputs": [
    {
     "data": {
      "text/plain": [
       "43"
      ]
     },
     "execution_count": 39,
     "metadata": {},
     "output_type": "execute_result"
    }
   ],
   "source": [
    "fbi(5,6)"
   ]
  },
  {
   "cell_type": "code",
   "execution_count": 40,
   "metadata": {},
   "outputs": [
    {
     "name": "stdout",
     "output_type": "stream",
     "text": [
      "x =  3\n"
     ]
    }
   ],
   "source": [
    "fp(3)"
   ]
  },
  {
   "cell_type": "code",
   "execution_count": 48,
   "metadata": {},
   "outputs": [
    {
     "name": "stdout",
     "output_type": "stream",
     "text": [
      "[1, 3, 5, 7, 9, 11, 13]\n"
     ]
    }
   ],
   "source": [
    "# ตัวอย่างการใช้ Lambda fucntion\n",
    "lis = [0,1,2,3,4,5,6,7,8,9,10,11,12,13]\n",
    "odd = filter(lambda x: x%2==1, lis)\n",
    "newList =  list(odd)\n",
    "print(newList)"
   ]
  },
  {
   "cell_type": "code",
   "execution_count": 49,
   "metadata": {},
   "outputs": [],
   "source": [
    "class Student:\n",
    "    name = \"\"\n",
    "    gpa = 0.0\n",
    "    def __init__(self,n,g):\n",
    "        self.name = n\n",
    "        self.gpa = g\n",
    "    def showInfo(self):\n",
    "        print(\"Name:{0} Gpa:{1}\".format(self.name,self.gpa))"
   ]
  },
  {
   "cell_type": "code",
   "execution_count": 50,
   "metadata": {},
   "outputs": [
    {
     "name": "stdout",
     "output_type": "stream",
     "text": [
      "Name:John Gpa:3.5\n"
     ]
    }
   ],
   "source": [
    "mystudent = Student(\"John\",3.5)\n",
    "mystudent.showInfo()"
   ]
  },
  {
   "cell_type": "code",
   "execution_count": 56,
   "metadata": {},
   "outputs": [
    {
     "name": "stdout",
     "output_type": "stream",
     "text": [
      "[<__main__.Student object at 0x000000000629B0F0>, <__main__.Student object at 0x00000000063692B0>, <__main__.Student object at 0x0000000006369278>, <__main__.Student object at 0x0000000006369DA0>]\n",
      "John\n",
      "Name:John Gpa:3.5\n",
      "None\n"
     ]
    }
   ],
   "source": [
    "stList = list()\n",
    "stList.append(mystudent)\n",
    "stList.append(Student(\"GunGun\",4.0))\n",
    "stList.append(Student(\"Natchanon\",3.8))\n",
    "stList.append(Student(\"Srichom\",3.5))\n",
    "\n",
    "print(stList)\n",
    "print(stList[0].name)\n",
    "print(stList[0].showInfo())"
   ]
  },
  {
   "cell_type": "code",
   "execution_count": 57,
   "metadata": {},
   "outputs": [
    {
     "name": "stdout",
     "output_type": "stream",
     "text": [
      "Name:John Gpa:3.5\n",
      "None\n",
      "Name:GunGun Gpa:4.0\n",
      "None\n",
      "Name:Natchanon Gpa:3.8\n",
      "None\n",
      "Name:Srichom Gpa:3.5\n",
      "None\n"
     ]
    }
   ],
   "source": [
    "for e in stList:\n",
    "    print(e.showInfo())"
   ]
  },
  {
   "cell_type": "code",
   "execution_count": 59,
   "metadata": {},
   "outputs": [],
   "source": [
    "class User:\n",
    "    userName = \"\"\n",
    "    __password = \"\"\n",
    "    def __init__(self,u,p):\n",
    "        self.userName = u\n",
    "        self.__password = p\n",
    "    def login(self,u,p):\n",
    "        testUser = self.userName is u\n",
    "        testPwd = self.__password is p\n",
    "        if(testUser and testPwd):\n",
    "            print(\"valid user\")\n",
    "        else:\n",
    "            print(\"Invalid user\")"
   ]
  },
  {
   "cell_type": "code",
   "execution_count": 60,
   "metadata": {},
   "outputs": [],
   "source": [
    "user = User(\"green\",\"123\")"
   ]
  },
  {
   "cell_type": "code",
   "execution_count": 61,
   "metadata": {},
   "outputs": [],
   "source": [
    "# class แม่\n",
    "class Operators:\n",
    "    valur = 0\n",
    "    def __init__(self,v):\n",
    "        self.value = v\n",
    "        def get_value(self):\n",
    "            return self.value"
   ]
  },
  {
   "cell_type": "code",
   "execution_count": 62,
   "metadata": {},
   "outputs": [],
   "source": [
    "# class ลูก\n",
    "class AddOperator(Operators):\n",
    "    def __init__(self,v,u):\n",
    "        super(AddOperator,self).__init__(v)\n",
    "        self.rightValue = u\n",
    "    def add(self):\n",
    "        return self.value + self.rightValue"
   ]
  },
  {
   "cell_type": "code",
   "execution_count": 63,
   "metadata": {},
   "outputs": [],
   "source": [
    "a = AddOperator(5,6)\n",
    "result = a.__dict__"
   ]
  },
  {
   "cell_type": "code",
   "execution_count": 64,
   "metadata": {},
   "outputs": [
    {
     "name": "stdout",
     "output_type": "stream",
     "text": [
      "{'value': 5, 'rightValue': 6}\n"
     ]
    }
   ],
   "source": [
    "print(result)"
   ]
  },
  {
   "cell_type": "code",
   "execution_count": null,
   "metadata": {},
   "outputs": [],
   "source": [
    "# Overriding\n",
    "class Base:\n",
    "    def __init__(self,u):\n",
    "        self.value = u\n",
    "    def show(self):\n",
    "        print(\"value(Base) is {0}\".format(self.value))\n",
    "        \n",
    "class Child(Base):\n",
    "    def __init__(self,u):\n",
    "        super(Child,self)"
   ]
  }
 ],
 "metadata": {
  "kernelspec": {
   "display_name": "Python 3",
   "language": "python",
   "name": "python3"
  },
  "language_info": {
   "codemirror_mode": {
    "name": "ipython",
    "version": 3
   },
   "file_extension": ".py",
   "mimetype": "text/x-python",
   "name": "python",
   "nbconvert_exporter": "python",
   "pygments_lexer": "ipython3",
   "version": "3.7.1"
  }
 },
 "nbformat": 4,
 "nbformat_minor": 2
}
