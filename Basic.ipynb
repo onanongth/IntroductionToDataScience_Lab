{
 "cells": [
  {
   "cell_type": "code",
   "execution_count": 7,
   "metadata": {},
   "outputs": [
    {
     "data": {
      "text/plain": [
       "1"
      ]
     },
     "execution_count": 7,
     "metadata": {},
     "output_type": "execute_result"
    }
   ],
   "source": [
    "----1"
   ]
  },
  {
   "cell_type": "code",
   "execution_count": 119,
   "metadata": {},
   "outputs": [],
   "source": [
    "#resource :\n",
    "#https://www.programiz.com/python-programming/variables-datatypes\n",
    "\n"
   ]
  },
  {
   "cell_type": "code",
   "execution_count": 8,
   "metadata": {},
   "outputs": [
    {
     "name": "stdout",
     "output_type": "stream",
     "text": [
      "number1 = 15\n",
      "money = 25000.5\n",
      "Your name is  John\n",
      "t =  True\n",
      "not_t= False\n",
      "<class 'int'>\n",
      "<class 'str'>\n",
      "<class 'float'>\n",
      "<class 'str'>\n",
      "<class 'bool'>\n",
      "yes, the number1 is int.\n"
     ]
    }
   ],
   "source": [
    "#assignment variables\n",
    "number1= 15\n",
    "money = 25000.50\n",
    "name = \"John\"\n",
    "c = 'A'\n",
    "t = True\n",
    "f = False\n",
    "not_t = not(t)\n",
    "\n",
    "print(\"number1 =\",number1)\n",
    "print(\"money =\",money)\n",
    "print(\"Your name is \",name)\n",
    "print(\"t = \",t)\n",
    "print(\"not_t=\",not_t)\n",
    "print(type(number1))\n",
    "print(type(name))\n",
    "print(type(money))\n",
    "print(type(c))\n",
    "print(type(t))\n",
    "if(type(number1) is int):\n",
    "    print(\"yes, the number1 is int.\")\n",
    "\n"
   ]
  },
  {
   "cell_type": "code",
   "execution_count": null,
   "metadata": {},
   "outputs": [],
   "source": [
    "#type conversion\n"
   ]
  },
  {
   "cell_type": "code",
   "execution_count": 22,
   "metadata": {},
   "outputs": [
    {
     "name": "stdout",
     "output_type": "stream",
     "text": [
      "n= 7\n",
      "Please, rerun again\n"
     ]
    }
   ],
   "source": [
    "#if -else\n",
    "import random\n",
    "from matplotlib import pyplot as plt\n",
    "n= random.randint(1,10)\n",
    "print(\"n=\",n)\n",
    "if(n==4):\n",
    "    print(\"You are right.\")\n",
    "else:\n",
    "    print(\"Please, rerun again\")"
   ]
  },
  {
   "cell_type": "code",
   "execution_count": 25,
   "metadata": {},
   "outputs": [
    {
     "data": {
      "text/plain": [
       "int"
      ]
     },
     "execution_count": 25,
     "metadata": {},
     "output_type": "execute_result"
    }
   ],
   "source": [
    "x=5\n",
    "type(x)"
   ]
  },
  {
   "cell_type": "code",
   "execution_count": 30,
   "metadata": {},
   "outputs": [
    {
     "name": "stdout",
     "output_type": "stream",
     "text": [
      "[0, 1, 2, 3, 4, 5, 6, 7, 8]\n",
      "[0, 1, 3, 4, 5, 6, 7, 8]\n",
      "[1, 2, 3, 4, 5, 6, 7, 8]\n",
      "[1, 2, 6, 7, 8]\n",
      "nested list\n",
      "[[1, 2, 3], [4, 5, 6], [7, 8, 9]]\n",
      "m= []\n"
     ]
    }
   ],
   "source": [
    "a = [0, 1, 2, 3, 4, 5, 6, 7, 8, 9]\n",
    " \n",
    "#ลบตัวสุดท้าย\n",
    "del a[-1]\n",
    "print(a)\n",
    "#ลบตัวที่ระบุ\n",
    "del a[2]\n",
    "print(a)\n",
    "b= list(range(1,9))\n",
    "print(b)\n",
    "del b[2:5]\n",
    "print(b)\n",
    "c = [\"First\",10,11,\"Elephant\"]\n",
    "print(\"nested list\")\n",
    "m=[ [1,2,3],[4,5,6],[7,8,9]]\n",
    "print(m)\n",
    "m.clear()\n",
    "print(\"m=\",m)\n"
   ]
  },
  {
   "cell_type": "code",
   "execution_count": 8,
   "metadata": {},
   "outputs": [
    {
     "name": "stdout",
     "output_type": "stream",
     "text": [
      "['John', 'Mo', 'Mee']\n",
      "John\n",
      "['John', 'Mo', 'Mano']\n",
      "John\n",
      "Mo\n",
      "Mano\n",
      "using index for looping\n",
      "0 \t John\n",
      "1 \t Mo\n",
      "2 \t Mano\n",
      "Searching in the names list\n",
      "Yes, it is a member in names\n",
      "['John', 'Mo', 'Mano', 'Jiant']\n",
      "['KK', 'John', 'Mo', 'Mano', 'Jiant']\n",
      "[0, 1, 2, 3, 4]\n",
      "[0, 1, 3, 4]\n",
      "[1, 2, 3, 4, 5, 6, 7, 8]\n"
     ]
    }
   ],
   "source": [
    "#list is A list is a mutable, or changeable, ordered sequence of elements.\n",
    "#Each element or value that is inside of a list is called an item.\n",
    "names = [\"John\",\"Mo\",\"Mee\"]\n",
    "print(names)\n",
    "#เราอ้างถึงสมาชิกได้โดยใช้อินเด็กซ์เริ่มที่ 0\n",
    "print(names[0])\n",
    "#แก้ไขได้ เช่น\n",
    "names[2]= \"Mano\"\n",
    "\n",
    "print(names)\n",
    "for e in names:\n",
    "    print(e)\n",
    "\n",
    "print(\"using index for looping\")\n",
    "for i in range(len(names)):\n",
    "    print(i,\"\\t\",names[i])\n",
    "    \n",
    "print(\"Searching in the names list\")\n",
    "if(\"Mo\" in names):\n",
    "    print(\"Yes, it is a member in names\")\n",
    "else:\n",
    "    print(\"not found\")\n",
    "names.append(\"Jiant\")\n",
    "print(names)\n",
    "names.insert(0,\"KK\")\n",
    "print(names)\n"
   ]
  },
  {
   "cell_type": "code",
   "execution_count": 36,
   "metadata": {},
   "outputs": [
    {
     "name": "stdout",
     "output_type": "stream",
     "text": [
      "(1, 2, 3, 5, 4, 5, 3, 7, 8, 5)\n"
     ]
    },
    {
     "ename": "TypeError",
     "evalue": "'tuple' object does not support item assignment",
     "output_type": "error",
     "traceback": [
      "\u001b[1;31m---------------------------------------------------------------------------\u001b[0m",
      "\u001b[1;31mTypeError\u001b[0m                                 Traceback (most recent call last)",
      "\u001b[1;32m<ipython-input-36-4a4cd58d81ca>\u001b[0m in \u001b[0;36m<module>\u001b[1;34m()\u001b[0m\n\u001b[0;32m      5\u001b[0m \u001b[0mprint\u001b[0m\u001b[1;33m(\u001b[0m\u001b[0ma_tuple\u001b[0m\u001b[1;33m)\u001b[0m\u001b[1;33m\u001b[0m\u001b[0m\n\u001b[0;32m      6\u001b[0m \u001b[0mll\u001b[0m\u001b[1;33m=\u001b[0m\u001b[1;33m(\u001b[0m\u001b[1;33m[\u001b[0m\u001b[1;36m1\u001b[0m\u001b[1;33m,\u001b[0m\u001b[1;36m3\u001b[0m\u001b[1;33m]\u001b[0m\u001b[1;33m,\u001b[0m\u001b[1;33m[\u001b[0m\u001b[1;34m\"hello\"\u001b[0m\u001b[1;33m,\u001b[0m\u001b[1;34m\"swatdee\"\u001b[0m\u001b[1;33m]\u001b[0m\u001b[1;33m)\u001b[0m\u001b[1;33m\u001b[0m\u001b[0m\n\u001b[1;32m----> 7\u001b[1;33m \u001b[0mll\u001b[0m\u001b[1;33m[\u001b[0m\u001b[1;36m0\u001b[0m\u001b[1;33m]\u001b[0m\u001b[1;33m=\u001b[0m\u001b[1;33m[\u001b[0m\u001b[1;36m1\u001b[0m\u001b[1;33m,\u001b[0m\u001b[1;36m2\u001b[0m\u001b[1;33m,\u001b[0m\u001b[1;36m3\u001b[0m\u001b[1;33m]\u001b[0m \u001b[1;31m#error\u001b[0m\u001b[1;33m\u001b[0m\u001b[0m\n\u001b[0m\u001b[0;32m      8\u001b[0m \u001b[0mll\u001b[0m\u001b[1;33m[\u001b[0m\u001b[1;36m0\u001b[0m\u001b[1;33m]\u001b[0m\u001b[1;33m[\u001b[0m\u001b[1;36m1\u001b[0m\u001b[1;33m]\u001b[0m\u001b[1;33m=\u001b[0m\u001b[1;36m2\u001b[0m \u001b[1;31m#ok\u001b[0m\u001b[1;33m\u001b[0m\u001b[0m\n\u001b[0;32m      9\u001b[0m \u001b[0mll\u001b[0m\u001b[1;33m[\u001b[0m\u001b[1;36m1\u001b[0m\u001b[1;33m]\u001b[0m\u001b[1;33m[\u001b[0m\u001b[1;36m0\u001b[0m\u001b[1;33m]\u001b[0m\u001b[1;33m=\u001b[0m\u001b[1;34m\"Hello John\"\u001b[0m\u001b[1;33m\u001b[0m\u001b[0m\n",
      "\u001b[1;31mTypeError\u001b[0m: 'tuple' object does not support item assignment"
     ]
    }
   ],
   "source": [
    "#tuple\n",
    "# a tuple is immutable.\n",
    "a_tuple=(1,2,3,5,4,5,3,7,8,5)\n",
    "\n",
    "print(a_tuple)\n",
    "ll=([1,3],[\"hello\",\"swatdee\"])\n",
    "#ll[0]=[1,2,3] #error\n",
    "ll[0][1]=2 #ok\n",
    "ll[1][0]=\"Hello John\"\n",
    "print(ll)\n",
    "#a_tuple[0]=15\n",
    "#How to refer to an  element in a_tuple\n",
    "print(a_tuple[0],a_tuple[1])\n",
    "#Length\n",
    "print(\"the number of element\",len(a_tuple))\n",
    "#the number of time that an element appears in the tuple\n",
    "print(\"The number of time 3 appears in a_tuple is \",a_tuple.count(3))\n",
    "#Search for the first occurrence of the value 5, and return its position:\n",
    "print(\"The first occurrence of value 5 is found at \",a_tuple.index(5))\n",
    "#How to  loop\n",
    "print(\"Looping in the tuple\")\n",
    "for i in range(len(a_tuple)):\n",
    "    print(a_tuple[i])\n",
    "\n",
    "#How to code for using for-each\n",
    "print(\"Looping by for-each\")\n",
    "for e in a_tuple:\n",
    "    print(e)\n",
    "    \n",
    "pairs = ((1,2),(3,4),(5,6))\n",
    "print(\"Pair of a tuple\")\n",
    "print(pairs)"
   ]
  },
  {
   "cell_type": "code",
   "execution_count": null,
   "metadata": {},
   "outputs": [],
   "source": []
  },
  {
   "cell_type": "code",
   "execution_count": null,
   "metadata": {},
   "outputs": [],
   "source": []
  },
  {
   "cell_type": "code",
   "execution_count": 74,
   "metadata": {},
   "outputs": [
    {
     "name": "stdout",
     "output_type": "stream",
     "text": [
      "<class 'dict'>\n",
      "{'brand': 'Ford', 'model': 'Mustang', 'year': 1964}\n",
      "Mustang\n",
      "1964\n",
      "The new value of year is  2019\n",
      "brand\n",
      "model\n",
      "year\n",
      "Ford\n",
      "Mustang\n",
      "2019\n",
      "=====shows all values\n",
      "Ford\n",
      "Mustang\n",
      "2019\n",
      "=== shows all items,(key,value)\n",
      "brand Ford\n",
      "model Mustang\n",
      "year 2019\n",
      "\t===check if key exists\n",
      "yes, band is exist in the thisdict\n",
      "The Length of thisdict is  3\n",
      "{'brand': 'Ford', 'model': 'Mustang', 'year': 2019, 'price': 25000.0}\n",
      "== remove the item that specified key\n",
      "{'id': 1, 'owener': 'JJ', 'make': 'Toyota', 'color': 'red'}\n",
      "{'id': 1, 'owener': 'JJ', 'color': 'red'}\n",
      "==After calling the popiem() of car\n",
      "{'id': 1, 'owener': 'JJ'}\n",
      "{'fruit': 'apple', 'callory': 2.5}\n",
      "Afer calling the clear() of myfruit\n",
      "{}\n",
      "Using get(): banana\n",
      "{'name': 'banana', 'frequency': 20}\n"
     ]
    }
   ],
   "source": [
    "#dictionary\n",
    "#Dictionary is an unordered collection of key-value pairs.\n",
    "#https://www.programiz.com/python-programming/dictionary\n",
    "my_dict={}\n",
    "print(type(my_dict))\n",
    "thisdict = {\n",
    "  \"brand\": \"Ford\",\n",
    "  \"model\": \"Mustang\",\n",
    "  \"year\": 1964\n",
    "}\n",
    "print(thisdict)\n",
    "# key: value\n",
    "#วิธีการเข้าถึงผ่านคีย์จะคืนค่ามาให้ เช่น\n",
    "print(thisdict[\"model\"])\n",
    "#ถ้าต้องการเข้าถึงค่าของ year\n",
    "print(thisdict[\"year\"])\n",
    "#How to edit แก้ไขค่าเช่นเปลี่ยนปีให้มีค่า 2019\n",
    "thisdict[\"year\"]=2019\n",
    "print(\"The new value of year is \",thisdict[\"year\"])\n",
    "#How to loop\n",
    "#แสดงคีย์ทุกตัวที่อยู่ใน thisdict\n",
    "for e in thisdict:\n",
    "    print(e)\n",
    "#พิมพ์ค่าทุกค่า\n",
    "for e in thisdict:\n",
    "    print(thisdict[e])\n",
    "#หรือ \n",
    "print(\"=====shows all values\")\n",
    "for e in thisdict.values():\n",
    "    print(e)\n",
    "#หรือแสดงแบบ items ที่คู่ (คีย์,ค่า)\n",
    "print(\"=== shows all items,(key,value)\")\n",
    "for key,value in thisdict.items():\n",
    "        print(key,value)\n",
    "#ตรวจสอบว่ามีคีย์ใน dict หรือไม่ check if key exists\n",
    "print(\"\\t===check if key exists\")\n",
    "if( \"brand\" in thisdict):\n",
    "    print(\"yes, band is exist in the thisdict\")\n",
    "\n",
    "#Dictionary Length\n",
    "print(\"The Length of thisdict is \",len(thisdict))\n",
    "#Adding Items\n",
    "thisdict[\"price\"] = 25000.0\n",
    "print(thisdict)\n",
    "#pop() is to remove the item that specified a key\n",
    "#ลบ item ที่ระบุคีย์\n",
    "print(\"== remove the item that specified key\")\n",
    "car={ \"id\":1, \"owener\":\"JJ\",\"make\":\"Toyota\", \"color\":\"red\"}\n",
    "print(car)\n",
    "car.pop(\"make\")\n",
    "print(car)\n",
    "#ลบ item สุดท้าย\n",
    "car.popitem()\n",
    "print(\"==After calling the popiem() of car\")\n",
    "print(car)\n",
    "#ลบ dictionary ออกไปเลย\n",
    "del car\n",
    "#print(car) #error \n",
    "myfruit ={\"fruit\":\"apple\",\"callory\":2.5}\n",
    "print(myfruit)\n",
    "myfruit.clear()\n",
    "print(\"Afer calling the clear() of myfruit\")\n",
    "\n",
    "print(myfruit)\n",
    "#how to merge dict\n",
    "word ={\"name\":\"banana\"}\n",
    "word2 = {\"frequency\":20}\n",
    "\n",
    "word.update(word2)\n",
    "print(\"Using get():\",word.get(\"name\",0))\n",
    "print(word)"
   ]
  },
  {
   "cell_type": "code",
   "execution_count": 114,
   "metadata": {},
   "outputs": [
    {
     "name": "stdout",
     "output_type": "stream",
     "text": [
      "[{'id': 1, 'name': 'John', 'point': 200}, {'id': 2, 'name': 'Jimy', 'point': 300}, {'id': 3, 'name': 'Peter', 'point': 250}, {'id': 4, 'name': 'Jiant', 'point': 150}]\n",
      "{'id': 1, 'name': 'John', 'point': 200}\n",
      "{'id': 2, 'name': 'Jimy', 'point': 300}\n",
      "{'id': 3, 'name': 'Peter', 'point': 250}\n",
      "{'id': 4, 'name': 'Jiant', 'point': 150}\n",
      "-----\n",
      "<class 'list'>\n",
      "{'id': 2, 'name': 'Jimy', 'point': 300}\n"
     ]
    },
    {
     "data": {
      "text/plain": [
       "[{'id': 1, 'name': 'John', 'point': 200},\n",
       " {'id': 2, 'name': 'Jimy', 'point': 300},\n",
       " {'id': 3, 'name': 'Peter', 'point': 250}]"
      ]
     },
     "execution_count": 114,
     "metadata": {},
     "output_type": "execute_result"
    }
   ],
   "source": [
    "#dictionary and List\n",
    "\n",
    "users = [ {\"id\":1,\"name\":\"John\", \"point\":200},\n",
    "         {\"id\":2, \"name\":\"Jimy\",\"point\":300},\n",
    "         {\"id\":3,\"name\":\"Peter\",\"point\":250},\n",
    "         {\"id\":4,\"name\":\"Jiant\",\"point\":150}\n",
    "        ]\n",
    "print(users)\n",
    "users[0][\"name\"]\n",
    "for u in users:\n",
    "    print(u)\n",
    "print(\"-----\")\n",
    "print(type(users))\n",
    "#searching \n",
    "print(next(item for item in users if item[\"name\"] == \"Jimy\"))\n",
    "#or using lambda function\n",
    "#การใช้ map ผ่าน lambda, ค่าที่ส่งไปคือ users แล้ว users จะไปแทน x แล้วคืนค่าเป็นค่าของ\n",
    "#id \n",
    "keys = map(lambda x: x['id'],users)\n",
    "list(keys)\n",
    "values= map(lambda x: x['name'],users)\n",
    "list(values)\n",
    "#ค้นหาคนที่ชื่อ 'Jimy' ผ่าน filter\n",
    "jimy_user= filter(lambda x:x['name']=='Jimy',users)\n",
    "list(jimy_user)\n",
    "#ค้นหาคนที่มีคะแนนตั้งแต่ 200 ขึ้นไป\n",
    "high_point = filter(lambda x:x['point']>=200,users)\n",
    "list(high_point)\n",
    "\n"
   ]
  },
  {
   "cell_type": "code",
   "execution_count": null,
   "metadata": {},
   "outputs": [],
   "source": []
  },
  {
   "cell_type": "code",
   "execution_count": null,
   "metadata": {},
   "outputs": [],
   "source": []
  }
 ],
 "metadata": {
  "kernelspec": {
   "display_name": "Python 3",
   "language": "python",
   "name": "python3"
  },
  "language_info": {
   "codemirror_mode": {
    "name": "ipython",
    "version": 3
   },
   "file_extension": ".py",
   "mimetype": "text/x-python",
   "name": "python",
   "nbconvert_exporter": "python",
   "pygments_lexer": "ipython3",
   "version": "3.7.0"
  }
 },
 "nbformat": 4,
 "nbformat_minor": 2
}
