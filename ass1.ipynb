{
 "cells": [
  {
   "cell_type": "code",
   "execution_count": 256,
   "metadata": {},
   "outputs": [
    {
     "name": "stdout",
     "output_type": "stream",
     "text": [
      "Number of instances = 699\n",
      "Number of attributes = 10\n"
     ]
    },
    {
     "data": {
      "text/html": [
       "<div>\n",
       "<style scoped>\n",
       "    .dataframe tbody tr th:only-of-type {\n",
       "        vertical-align: middle;\n",
       "    }\n",
       "\n",
       "    .dataframe tbody tr th {\n",
       "        vertical-align: top;\n",
       "    }\n",
       "\n",
       "    .dataframe thead th {\n",
       "        text-align: right;\n",
       "    }\n",
       "</style>\n",
       "<table border=\"1\" class=\"dataframe\">\n",
       "  <thead>\n",
       "    <tr style=\"text-align: right;\">\n",
       "      <th></th>\n",
       "      <th>Clump Thickness</th>\n",
       "      <th>Uniformity of Cell Size</th>\n",
       "      <th>Uniformity of Cell Shape</th>\n",
       "      <th>Marginal Adhesion</th>\n",
       "      <th>Single Epithelial Cell Size</th>\n",
       "      <th>Bare Nuclei</th>\n",
       "      <th>Bland Chromatin</th>\n",
       "      <th>Normal Nucleoli</th>\n",
       "      <th>Mitoses</th>\n",
       "      <th>Class</th>\n",
       "    </tr>\n",
       "  </thead>\n",
       "  <tbody>\n",
       "    <tr>\n",
       "      <th>0</th>\n",
       "      <td>5</td>\n",
       "      <td>1</td>\n",
       "      <td>1</td>\n",
       "      <td>1</td>\n",
       "      <td>2</td>\n",
       "      <td>1</td>\n",
       "      <td>3</td>\n",
       "      <td>1</td>\n",
       "      <td>1</td>\n",
       "      <td>2</td>\n",
       "    </tr>\n",
       "    <tr>\n",
       "      <th>1</th>\n",
       "      <td>5</td>\n",
       "      <td>4</td>\n",
       "      <td>4</td>\n",
       "      <td>5</td>\n",
       "      <td>7</td>\n",
       "      <td>10</td>\n",
       "      <td>3</td>\n",
       "      <td>2</td>\n",
       "      <td>1</td>\n",
       "      <td>2</td>\n",
       "    </tr>\n",
       "    <tr>\n",
       "      <th>2</th>\n",
       "      <td>3</td>\n",
       "      <td>1</td>\n",
       "      <td>1</td>\n",
       "      <td>1</td>\n",
       "      <td>2</td>\n",
       "      <td>2</td>\n",
       "      <td>3</td>\n",
       "      <td>1</td>\n",
       "      <td>1</td>\n",
       "      <td>2</td>\n",
       "    </tr>\n",
       "    <tr>\n",
       "      <th>3</th>\n",
       "      <td>6</td>\n",
       "      <td>8</td>\n",
       "      <td>8</td>\n",
       "      <td>1</td>\n",
       "      <td>3</td>\n",
       "      <td>4</td>\n",
       "      <td>3</td>\n",
       "      <td>7</td>\n",
       "      <td>1</td>\n",
       "      <td>2</td>\n",
       "    </tr>\n",
       "    <tr>\n",
       "      <th>4</th>\n",
       "      <td>4</td>\n",
       "      <td>1</td>\n",
       "      <td>1</td>\n",
       "      <td>3</td>\n",
       "      <td>2</td>\n",
       "      <td>1</td>\n",
       "      <td>3</td>\n",
       "      <td>1</td>\n",
       "      <td>1</td>\n",
       "      <td>2</td>\n",
       "    </tr>\n",
       "  </tbody>\n",
       "</table>\n",
       "</div>"
      ],
      "text/plain": [
       "   Clump Thickness  Uniformity of Cell Size  Uniformity of Cell Shape  \\\n",
       "0                5                        1                         1   \n",
       "1                5                        4                         4   \n",
       "2                3                        1                         1   \n",
       "3                6                        8                         8   \n",
       "4                4                        1                         1   \n",
       "\n",
       "   Marginal Adhesion  Single Epithelial Cell Size Bare Nuclei  \\\n",
       "0                  1                            2           1   \n",
       "1                  5                            7          10   \n",
       "2                  1                            2           2   \n",
       "3                  1                            3           4   \n",
       "4                  3                            2           1   \n",
       "\n",
       "   Bland Chromatin  Normal Nucleoli  Mitoses  Class  \n",
       "0                3                1        1      2  \n",
       "1                3                2        1      2  \n",
       "2                3                1        1      2  \n",
       "3                3                7        1      2  \n",
       "4                3                1        1      2  "
      ]
     },
     "execution_count": 256,
     "metadata": {},
     "output_type": "execute_result"
    }
   ],
   "source": [
    "#------------------------------------------------------------------\n",
    "# Tutorial K Nearest neighbor :Classification\n",
    "#------------------------------------------------------------------\n",
    "#----import data-----------\n",
    "import pandas as pd\n",
    "data = pd.read_csv('https://archive.ics.uci.edu/ml/machine-learning-databases/breast-cancer-wisconsin/breast-cancer-wisconsin.data', header=None)\n",
    "data.columns = ['Sample code', 'Clump Thickness', 'Uniformity of Cell Size', 'Uniformity of Cell Shape',\n",
    " 'Marginal Adhesion', 'Single Epithelial Cell Size', 'Bare Nuclei', 'Bland Chromatin',\n",
    " 'Normal Nucleoli', 'Mitoses','Class']\n",
    "data = data.drop(['Sample code'],axis=1)\n",
    "print('Number of instances = %d' % (data.shape[0]))\n",
    "print('Number of attributes = %d' % (data.shape[1]))\n",
    "data.head()"
   ]
  },
  {
   "cell_type": "code",
   "execution_count": 257,
   "metadata": {},
   "outputs": [
    {
     "name": "stdout",
     "output_type": "stream",
     "text": [
      "Number of instances = 699\n",
      "Number of attributes = 10\n",
      "Number of missing values:\n",
      "\tClump Thickness: 0\n",
      "\tUniformity of Cell Size: 0\n",
      "\tUniformity of Cell Shape: 0\n",
      "\tMarginal Adhesion: 0\n",
      "\tSingle Epithelial Cell Size: 0\n",
      "\tBare Nuclei: 16\n",
      "\tBland Chromatin: 0\n",
      "\tNormal Nucleoli: 0\n",
      "\tMitoses: 0\n",
      "\tClass: 0\n"
     ]
    }
   ],
   "source": [
    "#---------------\n",
    "# Find Missing value\n",
    "#--------------\n",
    "import numpy as np\n",
    "data = data.replace('?',np.NaN)\n",
    "print('Number of instances = %d' % (data.shape[0]))\n",
    "print('Number of attributes = %d' % (data.shape[1]))\n",
    "print('Number of missing values:')\n",
    "for col in data.columns:\n",
    " print('\\t%s: %d' % (col,data[col].isna().sum()))\n",
    "\n"
   ]
  },
  {
   "cell_type": "code",
   "execution_count": 258,
   "metadata": {},
   "outputs": [
    {
     "name": "stdout",
     "output_type": "stream",
     "text": [
      "\n",
      "After replacing missing values:\n",
      "    Clump Thickness  Uniformity of Cell Size  Uniformity of Cell Shape  \\\n",
      "20                7                        3                         2   \n",
      "21               10                        5                         5   \n",
      "22                3                        1                         1   \n",
      "23                8                        4                         5   \n",
      "24                1                        1                         1   \n",
      "\n",
      "    Marginal Adhesion  Single Epithelial Cell Size Bare Nuclei  \\\n",
      "20                 10                            5          10   \n",
      "21                  3                            6           7   \n",
      "22                  1                            2           1   \n",
      "23                  1                            2           1   \n",
      "24                  1                            2           1   \n",
      "\n",
      "    Bland Chromatin  Normal Nucleoli  Mitoses  Class  \n",
      "20                5                4        4      4  \n",
      "21                7               10        1      4  \n",
      "22                2                1        1      2  \n",
      "23                7                3        1      4  \n",
      "24                3                1        1      2  \n"
     ]
    }
   ],
   "source": [
    "#-----------------------------------\n",
    "# prepare data1: replace missing with median\n",
    "#-------------------------------\n",
    "data1=data\n",
    "data1 = data1.fillna(data1.median())\n",
    "print('\\nAfter replacing missing values:')\n",
    "print(data1[20:25])"
   ]
  },
  {
   "cell_type": "code",
   "execution_count": 259,
   "metadata": {},
   "outputs": [
    {
     "name": "stdout",
     "output_type": "stream",
     "text": [
      "Number of rows in original data = 699\n",
      "Number of rows after discarding missing values = 683\n"
     ]
    }
   ],
   "source": [
    "#------------------------------\n",
    "# prepare data2 : drop missing row\n",
    "#------------------------------\n",
    "print('Number of rows in original data = %d' % (data.shape[0]))\n",
    "data2 = data.dropna()\n",
    "print('Number of rows after discarding missing values = %d' % (data2.shape[0]))"
   ]
  },
  {
   "cell_type": "code",
   "execution_count": 260,
   "metadata": {},
   "outputs": [
    {
     "data": {
      "text/plain": [
       "<matplotlib.axes._subplots.AxesSubplot at 0x19915533898>"
      ]
     },
     "execution_count": 260,
     "metadata": {},
     "output_type": "execute_result"
    },
    {
     "data": {
      "image/png": "[encoded data removed]",
      "text/plain": [
       "<Figure size 1440x216 with 1 Axes>"
      ]
     },
     "metadata": {
      "needs_background": "light"
     },
     "output_type": "display_data"
    }
   ],
   "source": [
    "#--------------------------------\n",
    "# Check Outliner for data1\n",
    "# boxplot: data_box_data1\n",
    "#-------------------------------\n",
    "%matplotlib inline\n",
    "data_box_data1 = data1.drop(['Class'],axis=1)\n",
    "data_box_data1['Bare Nuclei'] = pd.to_numeric(data_box_data1['Bare Nuclei'])\n",
    "data_box_data1.boxplot(figsize=(20,3))"
   ]
  },
  {
   "cell_type": "code",
   "execution_count": 261,
   "metadata": {},
   "outputs": [
    {
     "data": {
      "text/plain": [
       "<matplotlib.axes._subplots.AxesSubplot at 0x1991a711780>"
      ]
     },
     "execution_count": 261,
     "metadata": {},
     "output_type": "execute_result"
    },
    {
     "data": {
      "image/png": "[encoded data removed]",
      "text/plain": [
       "<Figure size 1440x216 with 1 Axes>"
      ]
     },
     "metadata": {
      "needs_background": "light"
     },
     "output_type": "display_data"
    }
   ],
   "source": [
    "#--------------------------------\n",
    "# Check Outliner for data2\n",
    "# boxplot: data_box_data2\n",
    "#-------------------------------\n",
    "%matplotlib inline\n",
    "data_box_data2 = data2.drop(['Class'],axis=1)\n",
    "data_box_data2['Bare Nuclei'] = pd.to_numeric(data_box_data2['Bare Nuclei'])\n",
    "data_box_data2.boxplot(figsize=(20,3))"
   ]
  },
  {
   "cell_type": "code",
   "execution_count": 262,
   "metadata": {},
   "outputs": [],
   "source": [
    "#print(data_box_data1.std())\n",
    "#print(data_box_data2.std())\n",
    "#print(data_box_data1)\n",
    "#print(data_box_data2)"
   ]
  },
  {
   "cell_type": "code",
   "execution_count": 263,
   "metadata": {},
   "outputs": [
    {
     "data": {
      "text/html": [
       "<div>\n",
       "<style scoped>\n",
       "    .dataframe tbody tr th:only-of-type {\n",
       "        vertical-align: middle;\n",
       "    }\n",
       "\n",
       "    .dataframe tbody tr th {\n",
       "        vertical-align: top;\n",
       "    }\n",
       "\n",
       "    .dataframe thead th {\n",
       "        text-align: right;\n",
       "    }\n",
       "</style>\n",
       "<table border=\"1\" class=\"dataframe\">\n",
       "  <thead>\n",
       "    <tr style=\"text-align: right;\">\n",
       "      <th></th>\n",
       "      <th>Clump Thickness</th>\n",
       "      <th>Uniformity of Cell Size</th>\n",
       "      <th>Uniformity of Cell Shape</th>\n",
       "      <th>Marginal Adhesion</th>\n",
       "      <th>Single Epithelial Cell Size</th>\n",
       "      <th>Bare Nuclei</th>\n",
       "      <th>Bland Chromatin</th>\n",
       "      <th>Normal Nucleoli</th>\n",
       "      <th>Mitoses</th>\n",
       "    </tr>\n",
       "  </thead>\n",
       "  <tbody>\n",
       "    <tr>\n",
       "      <th>20</th>\n",
       "      <td>0.917080</td>\n",
       "      <td>-0.044070</td>\n",
       "      <td>-0.406284</td>\n",
       "      <td>2.519152</td>\n",
       "      <td>0.805662</td>\n",
       "      <td>1.798376</td>\n",
       "      <td>0.640688</td>\n",
       "      <td>0.371049</td>\n",
       "      <td>1.405526</td>\n",
       "    </tr>\n",
       "    <tr>\n",
       "      <th>21</th>\n",
       "      <td>1.982519</td>\n",
       "      <td>0.611354</td>\n",
       "      <td>0.603167</td>\n",
       "      <td>0.067638</td>\n",
       "      <td>1.257272</td>\n",
       "      <td>0.970088</td>\n",
       "      <td>1.460910</td>\n",
       "      <td>2.335921</td>\n",
       "      <td>-0.343666</td>\n",
       "    </tr>\n",
       "    <tr>\n",
       "      <th>22</th>\n",
       "      <td>-0.503505</td>\n",
       "      <td>-0.699494</td>\n",
       "      <td>-0.742767</td>\n",
       "      <td>-0.632794</td>\n",
       "      <td>-0.549168</td>\n",
       "      <td>-0.686488</td>\n",
       "      <td>-0.589645</td>\n",
       "      <td>-0.611387</td>\n",
       "      <td>-0.343666</td>\n",
       "    </tr>\n",
       "    <tr>\n",
       "      <th>23</th>\n",
       "      <td>1.272227</td>\n",
       "      <td>0.283642</td>\n",
       "      <td>0.603167</td>\n",
       "      <td>-0.632794</td>\n",
       "      <td>-0.549168</td>\n",
       "      <td>-0.686488</td>\n",
       "      <td>1.460910</td>\n",
       "      <td>0.043570</td>\n",
       "      <td>-0.343666</td>\n",
       "    </tr>\n",
       "    <tr>\n",
       "      <th>24</th>\n",
       "      <td>-1.213798</td>\n",
       "      <td>-0.699494</td>\n",
       "      <td>-0.742767</td>\n",
       "      <td>-0.632794</td>\n",
       "      <td>-0.549168</td>\n",
       "      <td>-0.686488</td>\n",
       "      <td>-0.179534</td>\n",
       "      <td>-0.611387</td>\n",
       "      <td>-0.343666</td>\n",
       "    </tr>\n",
       "  </tbody>\n",
       "</table>\n",
       "</div>"
      ],
      "text/plain": [
       "    Clump Thickness  Uniformity of Cell Size  Uniformity of Cell Shape  \\\n",
       "20         0.917080                -0.044070                 -0.406284   \n",
       "21         1.982519                 0.611354                  0.603167   \n",
       "22        -0.503505                -0.699494                 -0.742767   \n",
       "23         1.272227                 0.283642                  0.603167   \n",
       "24        -1.213798                -0.699494                 -0.742767   \n",
       "\n",
       "    Marginal Adhesion  Single Epithelial Cell Size  Bare Nuclei  \\\n",
       "20           2.519152                     0.805662     1.798376   \n",
       "21           0.067638                     1.257272     0.970088   \n",
       "22          -0.632794                    -0.549168    -0.686488   \n",
       "23          -0.632794                    -0.549168    -0.686488   \n",
       "24          -0.632794                    -0.549168    -0.686488   \n",
       "\n",
       "    Bland Chromatin  Normal Nucleoli   Mitoses  \n",
       "20         0.640688         0.371049  1.405526  \n",
       "21         1.460910         2.335921 -0.343666  \n",
       "22        -0.589645        -0.611387 -0.343666  \n",
       "23         1.460910         0.043570 -0.343666  \n",
       "24        -0.179534        -0.611387 -0.343666  "
      ]
     },
     "execution_count": 263,
     "metadata": {},
     "output_type": "execute_result"
    }
   ],
   "source": [
    "#--------------------------------\n",
    "# Manage outliner by compute Z SCORE\n",
    "# compute Z SCORE : for data1 , data2\n",
    "# ignore data : Z SCORE < 3 AND Z SCORE >=3\n",
    "#-------------------------------\n",
    "Z_data1 = (data_box_data1-data_box_data1.mean())/data_box_data1.std()\n",
    "Z_data1[20:25]\n"
   ]
  },
  {
   "cell_type": "code",
   "execution_count": 264,
   "metadata": {},
   "outputs": [
    {
     "data": {
      "text/html": [
       "<div>\n",
       "<style scoped>\n",
       "    .dataframe tbody tr th:only-of-type {\n",
       "        vertical-align: middle;\n",
       "    }\n",
       "\n",
       "    .dataframe tbody tr th {\n",
       "        vertical-align: top;\n",
       "    }\n",
       "\n",
       "    .dataframe thead th {\n",
       "        text-align: right;\n",
       "    }\n",
       "</style>\n",
       "<table border=\"1\" class=\"dataframe\">\n",
       "  <thead>\n",
       "    <tr style=\"text-align: right;\">\n",
       "      <th></th>\n",
       "      <th>Clump Thickness</th>\n",
       "      <th>Uniformity of Cell Size</th>\n",
       "      <th>Uniformity of Cell Shape</th>\n",
       "      <th>Marginal Adhesion</th>\n",
       "      <th>Single Epithelial Cell Size</th>\n",
       "      <th>Bare Nuclei</th>\n",
       "      <th>Bland Chromatin</th>\n",
       "      <th>Normal Nucleoli</th>\n",
       "      <th>Mitoses</th>\n",
       "    </tr>\n",
       "  </thead>\n",
       "  <tbody>\n",
       "    <tr>\n",
       "      <th>20</th>\n",
       "      <td>0.906788</td>\n",
       "      <td>-0.049200</td>\n",
       "      <td>-0.406623</td>\n",
       "      <td>2.502944</td>\n",
       "      <td>0.794274</td>\n",
       "      <td>1.771569</td>\n",
       "      <td>0.634734</td>\n",
       "      <td>0.370269</td>\n",
       "      <td>1.383283</td>\n",
       "    </tr>\n",
       "    <tr>\n",
       "      <th>21</th>\n",
       "      <td>1.970331</td>\n",
       "      <td>0.603298</td>\n",
       "      <td>0.597198</td>\n",
       "      <td>0.059290</td>\n",
       "      <td>1.244099</td>\n",
       "      <td>0.948266</td>\n",
       "      <td>1.451161</td>\n",
       "      <td>2.335764</td>\n",
       "      <td>-0.348145</td>\n",
       "    </tr>\n",
       "    <tr>\n",
       "      <th>22</th>\n",
       "      <td>-0.511269</td>\n",
       "      <td>-0.701698</td>\n",
       "      <td>-0.741230</td>\n",
       "      <td>-0.638897</td>\n",
       "      <td>-0.555202</td>\n",
       "      <td>-0.698341</td>\n",
       "      <td>-0.589908</td>\n",
       "      <td>-0.612478</td>\n",
       "      <td>-0.348145</td>\n",
       "    </tr>\n",
       "    <tr>\n",
       "      <th>24</th>\n",
       "      <td>-1.220297</td>\n",
       "      <td>-0.701698</td>\n",
       "      <td>-0.741230</td>\n",
       "      <td>-0.638897</td>\n",
       "      <td>-0.555202</td>\n",
       "      <td>-0.698341</td>\n",
       "      <td>-0.181694</td>\n",
       "      <td>-0.612478</td>\n",
       "      <td>-0.348145</td>\n",
       "    </tr>\n",
       "    <tr>\n",
       "      <th>25</th>\n",
       "      <td>0.197760</td>\n",
       "      <td>-0.375449</td>\n",
       "      <td>-0.072016</td>\n",
       "      <td>0.408383</td>\n",
       "      <td>-0.555202</td>\n",
       "      <td>0.948266</td>\n",
       "      <td>-0.181694</td>\n",
       "      <td>1.025434</td>\n",
       "      <td>-0.348145</td>\n",
       "    </tr>\n",
       "  </tbody>\n",
       "</table>\n",
       "</div>"
      ],
      "text/plain": [
       "    Clump Thickness  Uniformity of Cell Size  Uniformity of Cell Shape  \\\n",
       "20         0.906788                -0.049200                 -0.406623   \n",
       "21         1.970331                 0.603298                  0.597198   \n",
       "22        -0.511269                -0.701698                 -0.741230   \n",
       "24        -1.220297                -0.701698                 -0.741230   \n",
       "25         0.197760                -0.375449                 -0.072016   \n",
       "\n",
       "    Marginal Adhesion  Single Epithelial Cell Size  Bare Nuclei  \\\n",
       "20           2.502944                     0.794274     1.771569   \n",
       "21           0.059290                     1.244099     0.948266   \n",
       "22          -0.638897                    -0.555202    -0.698341   \n",
       "24          -0.638897                    -0.555202    -0.698341   \n",
       "25           0.408383                    -0.555202     0.948266   \n",
       "\n",
       "    Bland Chromatin  Normal Nucleoli   Mitoses  \n",
       "20         0.634734         0.370269  1.383283  \n",
       "21         1.451161         2.335764 -0.348145  \n",
       "22        -0.589908        -0.612478 -0.348145  \n",
       "24        -0.181694        -0.612478 -0.348145  \n",
       "25        -0.181694         1.025434 -0.348145  "
      ]
     },
     "execution_count": 264,
     "metadata": {},
     "output_type": "execute_result"
    }
   ],
   "source": [
    "Z_data2 = (data_box_data2-data_box_data2.mean())/data_box_data2.std()\n",
    "Z_data2[20:25]\n"
   ]
  },
  {
   "cell_type": "code",
   "execution_count": 265,
   "metadata": {},
   "outputs": [
    {
     "name": "stdout",
     "output_type": "stream",
     "text": [
      "Number of rows = 648\n"
     ]
    }
   ],
   "source": [
    "Z1 = Z_data1.loc[((Z_data1 > -3).sum(axis=1)==9) & ((Z_data1 <= 3).sum(axis=1)==9),:]\n",
    "print('Number of rows = %d' % (Z1.shape[0]))"
   ]
  },
  {
   "cell_type": "code",
   "execution_count": 266,
   "metadata": {},
   "outputs": [
    {
     "name": "stdout",
     "output_type": "stream",
     "text": [
      "Number of rows = 632\n"
     ]
    }
   ],
   "source": [
    "Z2 = Z_data2.loc[((Z_data2 > -3).sum(axis=1)==9) & ((Z_data2 <= 3).sum(axis=1)==9),:]\n",
    "print('Number of rows = %d' % (Z2.shape[0]))"
   ]
  },
  {
   "cell_type": "code",
   "execution_count": 267,
   "metadata": {},
   "outputs": [
    {
     "name": "stdout",
     "output_type": "stream",
     "text": [
      "Number of instances = 699\n",
      "Number of attributes = 9\n",
      "Number of instances = 699\n"
     ]
    }
   ],
   "source": [
    "#-----------------------------------------------\n",
    "# Data1 :\n",
    "# Prepare data for create Classification Model\n",
    "# data1 : split training data , testing data\n",
    "#----------------------------------------------\n",
    "data1_x = data1.drop(['Class'],axis=1)\n",
    "print('Number of instances = %d' % (data1_x.shape[0]))\n",
    "print('Number of attributes = %d' % (data1_x.shape[1]))\n",
    "data1_x.head()\n",
    "\n",
    "data1_y = data1['Class']\n",
    "print('Number of instances = %d' % (data1_y.shape[0]))\n",
    "#print('Number of attributes = %d' % (data1_y.shape[1]))\n",
    "data1_y.head()\n",
    "from sklearn.model_selection import train_test_split\n",
    "X_train, X_test, Y_train, Y_test = train_test_split(data1_x, data1_y, test_size = 0.2,random_state = 0)"
   ]
  },
  {
   "cell_type": "code",
   "execution_count": 268,
   "metadata": {},
   "outputs": [],
   "source": [
    "#data1_y"
   ]
  },
  {
   "cell_type": "code",
   "execution_count": 284,
   "metadata": {},
   "outputs": [
    {
     "name": "stdout",
     "output_type": "stream",
     "text": [
      "[0.9781021897810219, 0.9708029197080292, 0.948905109489051, 0.948905109489051, 0.9416058394160584, 0.9416058394160584, 0.9416058394160584]\n",
      "0.9530761209593326\n"
     ]
    },
    {
     "data": {
      "image/png": "[encoded data removed]",
      "text/plain": [
       "<Figure size 432x288 with 1 Axes>"
      ]
     },
     "metadata": {
      "needs_background": "light"
     },
     "output_type": "display_data"
    }
   ],
   "source": [
    "#--------------------------------------------------\n",
    "# Classification : KNeighborsClassifier\n",
    "# for Fill-in missing\n",
    "#---------------------------------------------------\n",
    "from sklearn.metrics import accuracy_score\n",
    "from sklearn.neighbors import KNeighborsClassifier\n",
    "import matplotlib.pyplot as plt\n",
    "%matplotlib inline\n",
    "numNeighbors = [1, 5, 10, 15, 20, 25, 30] \n",
    "trainAcc_knnd1 = []\n",
    "testAcc_knnd1 = []\n",
    "for k in numNeighbors:\n",
    " clf_knnd1 = KNeighborsClassifier(n_neighbors=k, metric='minkowski', p=2)\n",
    " clf_knnd1.fit(X_train, Y_train)\n",
    " Y_predTrain_knnd1 = clf_knnd1.predict(X_train)\n",
    " Y_predTest_knnd1 = clf_knnd1.predict(X_test)\n",
    " trainAcc_knnd1.append(accuracy_score(Y_train, Y_predTrain_knnd1))\n",
    " testAcc_knnd1.append(accuracy_score(Y_test, Y_predTest_knnd1))\n",
    "plt.plot(numNeighbors, trainAcc_knnd1, 'ro-', numNeighbors, testAcc_knnd1,'bv--')\n",
    "plt.legend(['Training Accuracy','Test Accuracy'])\n",
    "plt.xlabel('Number of neighbors')\n",
    "plt.ylabel('Accuracy')\n",
    "\n",
    "print(testAcc_knnd1)\n",
    "print(np.mean(testAcc_knnd1))"
   ]
  },
  {
   "cell_type": "code",
   "execution_count": 283,
   "metadata": {},
   "outputs": [
    {
     "name": "stdout",
     "output_type": "stream",
     "text": [
      "Number of instances = 683\n",
      "Number of attributes = 9\n",
      "Number of instances = 683\n",
      "[0.9781021897810219, 0.9708029197080292, 0.948905109489051, 0.948905109489051, 0.9416058394160584, 0.9416058394160584, 0.9416058394160584]\n",
      "0.9530761209593326\n"
     ]
    },
    {
     "data": {
      "image/png": "[encoded data removed]",
      "text/plain": [
       "<Figure size 432x288 with 1 Axes>"
      ]
     },
     "metadata": {
      "needs_background": "light"
     },
     "output_type": "display_data"
    }
   ],
   "source": [
    "#-----------------------------------------------\n",
    "# Data2 :\n",
    "# Prepare data for create Classification Model\n",
    "# data1 : split training data , testing data\n",
    "#----------------------------------------------\n",
    "data2_x = data2.drop(['Class'],axis=1)\n",
    "print('Number of instances = %d' % (data2_x.shape[0]))\n",
    "print('Number of attributes = %d' % (data2_x.shape[1]))\n",
    "data2_x.head()\n",
    "data2_y = data2['Class']\n",
    "print('Number of instances = %d' % (data2_y.shape[0]))\n",
    "#print('Number of attributes = %d' % (data2_y.shape[1]))\n",
    "data2_y.head()\n",
    "from sklearn.model_selection import train_test_split\n",
    "X_train, X_test, Y_train, Y_test = train_test_split(data2_x, data2_y, test_size = 0.2,random_state = 0)\n",
    "\n",
    "#--------------------------------------------------\n",
    "# Classification : KNeighborsClassifier\n",
    "# for Ignored missing\n",
    "#---------------------------------------------------\n",
    "from sklearn.neighbors import KNeighborsClassifier\n",
    "import matplotlib.pyplot as plt\n",
    "%matplotlib inline\n",
    "numNeighbors = [1, 5, 10, 15, 20, 25, 30]\n",
    "trainAcc_knnd2 = []\n",
    "testAcc_knnd2 = []\n",
    "for k in numNeighbors:\n",
    "    clf_knnd2 = KNeighborsClassifier(n_neighbors=k, metric='minkowski', p=2)\n",
    "    clf_knnd2.fit(X_train, Y_train)\n",
    "    Y_predTrain_knnd2 = clf_knnd2.predict(X_train)\n",
    "    Y_predTest_knnd2 = clf_knnd2.predict(X_test)\n",
    "    trainAcc_knnd2.append(accuracy_score(Y_train,Y_predTrain_knnd2))\n",
    "    testAcc_knnd2.append(accuracy_score(Y_test,Y_predTest_knnd2))\n",
    "\n",
    "#print(Y_predTrain_knnd2)\n",
    "\n",
    "plt.plot(numNeighbors,trainAcc_knnd2,'ro-',numNeighbors,testAcc_knnd2,'bv--')\n",
    "plt.legend(['Training Accuracy','Test Accuracy'])\n",
    "plt.xlabel('Number of neighbors')\n",
    "plt.ylabel('Accuracy')\n",
    "\n",
    "print(testAcc_knnd2)\n",
    "print(np.mean(testAcc_knnd2))"
   ]
  },
  {
   "cell_type": "code",
   "execution_count": 282,
   "metadata": {},
   "outputs": [
    {
     "name": "stdout",
     "output_type": "stream",
     "text": [
      "[0.9461538461538461, 0.9769230769230769, 0.9615384615384616, 0.9692307692307692, 0.9692307692307692, 0.9692307692307692, 0.9615384615384616]\n",
      "0.9648351648351648\n"
     ]
    },
    {
     "data": {
      "image/png": "[encoded data removed]",
      "text/plain": [
       "<Figure size 432x288 with 1 Axes>"
      ]
     },
     "metadata": {
      "needs_background": "light"
     },
     "output_type": "display_data"
    }
   ],
   "source": [
    "#-----------------------------------------------\n",
    "# K-NN with Fill-in Missing + Managing Outlier\n",
    "#----------------------------------------------\n",
    "AC1 = data1.drop(['Class'],axis=1)\n",
    "AC1['Bare Nuclei'] = pd.to_numeric(data_box_data1['Bare Nuclei'])\n",
    "#manging\n",
    "Z_AC1 = (AC1-AC1.mean())/AC1.std()\n",
    "Z1 = data1.loc[((Z_AC1 > -3).sum(axis=1)==9) & ((Z_AC1 <= 3).sum(axis=1)==9),:]\n",
    "\n",
    "data1_x = Z1.drop(['Class'],axis=1)\n",
    "data1_y = Z1['Class']\n",
    "\n",
    "from sklearn.model_selection import train_test_split\n",
    "X_train, X_test, Y_train, Y_test = train_test_split(data1_x, data1_y, test_size = 0.2,random_state = 0)\n",
    "\n",
    "#---------------------------------------------------\n",
    "from sklearn.neighbors import KNeighborsClassifier\n",
    "import matplotlib.pyplot as plt\n",
    "%matplotlib inline\n",
    "numNeighbors = [1, 5, 10, 15, 20, 25, 30]\n",
    "trainAcc_knnd2 = []\n",
    "testAcc_knndC = []\n",
    "for k in numNeighbors:\n",
    "    clf_knnd2 = KNeighborsClassifier(n_neighbors=k, metric='minkowski', p=2)\n",
    "    clf_knnd2.fit(X_train, Y_train)\n",
    "    Y_predTrain_knnd2 = clf_knnd2.predict(X_train)\n",
    "    Y_predTest_knnd2 = clf_knnd2.predict(X_test)\n",
    "    trainAcc_knnd2.append(accuracy_score(Y_train,Y_predTrain_knnd2))\n",
    "    testAcc_knndC.append(accuracy_score(Y_test,Y_predTest_knnd2))\n",
    "\n",
    "#print(Y_predTrain_knnd2)\n",
    "\n",
    "plt.plot(numNeighbors,trainAcc_knnd2,'ro-',numNeighbors,testAcc_knndC,'bv--')\n",
    "plt.legend(['Training Accuracy','Test Accuracy'])\n",
    "plt.xlabel('Number of neighbors')\n",
    "plt.ylabel('Accuracy')\n",
    "\n",
    "print(testAcc_knndC)\n",
    "print(np.mean(testAcc_knndC))"
   ]
  },
  {
   "cell_type": "code",
   "execution_count": 281,
   "metadata": {},
   "outputs": [
    {
     "name": "stdout",
     "output_type": "stream",
     "text": [
      "[0.9212598425196851, 0.9606299212598425, 0.9606299212598425, 0.9606299212598425, 0.952755905511811, 0.9606299212598425, 0.9606299212598425]\n",
      "0.9538807649043869\n"
     ]
    },
    {
     "data": {
      "image/png": "[encoded data removed]",
      "text/plain": [
       "<Figure size 432x288 with 1 Axes>"
      ]
     },
     "metadata": {
      "needs_background": "light"
     },
     "output_type": "display_data"
    }
   ],
   "source": [
    "#-----------------------------------------------\n",
    "# K-NN with Ignored Missing + Managing Outlier\n",
    "#----------------------------------------------\n",
    "\n",
    "BD2 = data2.drop(['Class'],axis=1)\n",
    "BD2['Bare Nuclei'] = pd.to_numeric(BD2['Bare Nuclei'])\n",
    "\n",
    "#manging\n",
    "Z_BD2 = (BD2-BD2.mean())/BD2.std()\n",
    "Z2 = data2.loc[((Z_BD2 > -3).sum(axis=1)==9) & ((Z_BD2 <= 3).sum(axis=1)==9),:]\n",
    "\n",
    "data2_x = Z2.drop(['Class'],axis=1)\n",
    "data2_y = Z2['Class']\n",
    "\n",
    "from sklearn.model_selection import train_test_split\n",
    "X_train, X_test, Y_train, Y_test = train_test_split(data2_x, data2_y, test_size = 0.2,random_state = 0)\n",
    "\n",
    "#---------------------------------------------------\n",
    "from sklearn.neighbors import KNeighborsClassifier\n",
    "import matplotlib.pyplot as plt\n",
    "%matplotlib inline\n",
    "numNeighbors = [1, 5, 10, 15, 20, 25, 30]\n",
    "trainAcc_knnd2 = []\n",
    "testAcc_knndD = []\n",
    "for k in numNeighbors:\n",
    "    clf_knnd2 = KNeighborsClassifier(n_neighbors=k, metric='minkowski', p=2)\n",
    "    clf_knnd2.fit(X_train, Y_train)\n",
    "    Y_predTrain_knnd2 = clf_knnd2.predict(X_train)\n",
    "    Y_predTest_knnd2 = clf_knnd2.predict(X_test)\n",
    "    trainAcc_knnd2.append(accuracy_score(Y_train,Y_predTrain_knnd2))\n",
    "    testAcc_knndD.append(accuracy_score(Y_test,Y_predTest_knnd2))\n",
    "\n",
    "#print(Y_predTrain_knnd2)\n",
    "\n",
    "plt.plot(numNeighbors,trainAcc_knnd2,'ro-',numNeighbors,testAcc_knndD,'bv--')\n",
    "plt.legend(['Training Accuracy','Test Accuracy'])\n",
    "plt.xlabel('Number of neighbors')\n",
    "plt.ylabel('Accuracy')\n",
    "\n",
    "print(testAcc_knndD)\n",
    "print(np.mean(testAcc_knndD))"
   ]
  },
  {
   "cell_type": "code",
   "execution_count": 280,
   "metadata": {},
   "outputs": [
    {
     "name": "stdout",
     "output_type": "stream",
     "text": [
      "[0.8888888888888888, 0.9111111111111111, 0.9111111111111111, 0.9, 0.9, 0.8888888888888888, 0.9]\n",
      "0.9000000000000001\n"
     ]
    },
    {
     "data": {
      "image/png": "[encoded data removed]",
      "text/plain": [
       "<Figure size 432x288 with 1 Axes>"
      ]
     },
     "metadata": {
      "needs_background": "light"
     },
     "output_type": "display_data"
    }
   ],
   "source": [
    "#-----------------------------------------------\n",
    "# K-NN with Fill-in Missing + Managing Outlier + Managing Duplicate data\n",
    "#----------------------------------------------\n",
    "\n",
    "import pandas as pd\n",
    "\n",
    "dataE = data1.drop_duplicates()\n",
    "\n",
    "AC1 = dataE.drop(['Class'],axis=1)\n",
    "AC1['Bare Nuclei'] = pd.to_numeric(data_box_data1['Bare Nuclei'])\n",
    "#manging\n",
    "Z_AC1 = (AC1-AC1.mean())/AC1.std()\n",
    "Z1 = dataE.loc[((Z_AC1 > -3).sum(axis=1)==9) & ((Z_AC1 <= 3).sum(axis=1)==9),:]\n",
    "\n",
    "data1_x = Z1.drop(['Class'],axis=1)\n",
    "data1_y = Z1['Class']\n",
    "\n",
    "from sklearn.model_selection import train_test_split\n",
    "X_train, X_test, Y_train, Y_test = train_test_split(data1_x, data1_y, test_size = 0.2,random_state = 0)\n",
    "\n",
    "#---------------------------------------------------\n",
    "from sklearn.neighbors import KNeighborsClassifier\n",
    "import matplotlib.pyplot as plt\n",
    "%matplotlib inline\n",
    "numNeighbors = [1, 5, 10, 15, 20, 25, 30]\n",
    "trainAcc_knnd2 = []\n",
    "testAcc_knndE = []\n",
    "for k in numNeighbors:\n",
    "    clf_knnd2 = KNeighborsClassifier(n_neighbors=k, metric='minkowski', p=2)\n",
    "    clf_knnd2.fit(X_train, Y_train)\n",
    "    Y_predTrain_knnd2 = clf_knnd2.predict(X_train)\n",
    "    Y_predTest_knnd2 = clf_knnd2.predict(X_test)\n",
    "    trainAcc_knnd2.append(accuracy_score(Y_train,Y_predTrain_knnd2))\n",
    "    testAcc_knndE.append(accuracy_score(Y_test,Y_predTest_knnd2))\n",
    "\n",
    "#print(Y_predTrain_knnd2)\n",
    "\n",
    "plt.plot(numNeighbors,trainAcc_knnd2,'ro-',numNeighbors,testAcc_knndE,'bv--')\n",
    "plt.legend(['Training Accuracy','Test Accuracy'])\n",
    "plt.xlabel('Number of neighbors')\n",
    "plt.ylabel('Accuracy')\n",
    "\n",
    "print(testAcc_knndE)\n",
    "print(np.mean(testAcc_knndE))"
   ]
  },
  {
   "cell_type": "code",
   "execution_count": 279,
   "metadata": {},
   "outputs": [
    {
     "name": "stdout",
     "output_type": "stream",
     "text": [
      "[0.9080459770114943, 0.9195402298850575, 0.9080459770114943, 0.9080459770114943, 0.896551724137931, 0.896551724137931, 0.896551724137931]\n",
      "0.9047619047619045\n"
     ]
    },
    {
     "data": {
      "image/png": "[encoded data removed]",
      "text/plain": [
       "<Figure size 432x288 with 1 Axes>"
      ]
     },
     "metadata": {
      "needs_background": "light"
     },
     "output_type": "display_data"
    }
   ],
   "source": [
    "#-----------------------------------------------\n",
    "# K-NN with  Ignored Missing + Managing Outlier + Managing Duplicate data\n",
    "#----------------------------------------------\n",
    "\n",
    "import pandas as pd\n",
    "\n",
    "dataF = data2.drop_duplicates()\n",
    "\n",
    "AC1 = dataF.drop(['Class'],axis=1)\n",
    "AC1['Bare Nuclei'] = pd.to_numeric(data_box_data1['Bare Nuclei'])\n",
    "#manging\n",
    "Z_AC1 = (AC1-AC1.mean())/AC1.std()\n",
    "Z1 = dataF.loc[((Z_AC1 > -3).sum(axis=1)==9) & ((Z_AC1 <= 3).sum(axis=1)==9),:]\n",
    "\n",
    "data1_x = Z1.drop(['Class'],axis=1)\n",
    "data1_y = Z1['Class']\n",
    "\n",
    "from sklearn.model_selection import train_test_split\n",
    "X_train, X_test, Y_train, Y_test = train_test_split(data1_x, data1_y, test_size = 0.2,random_state = 0)\n",
    "\n",
    "#---------------------------------------------------\n",
    "from sklearn.neighbors import KNeighborsClassifier\n",
    "import matplotlib.pyplot as plt\n",
    "%matplotlib inline\n",
    "numNeighbors = [1, 5, 10, 15, 20, 25, 30]\n",
    "trainAcc_knnd2 = []\n",
    "testAcc_knndF = []\n",
    "for k in numNeighbors:\n",
    "    clf_knnd2 = KNeighborsClassifier(n_neighbors=k, metric='minkowski', p=2)\n",
    "    clf_knnd2.fit(X_train, Y_train)\n",
    "    Y_predTrain_knnd2 = clf_knnd2.predict(X_train)\n",
    "    Y_predTest_knnd2 = clf_knnd2.predict(X_test)\n",
    "    trainAcc_knnd2.append(accuracy_score(Y_train,Y_predTrain_knnd2))\n",
    "    testAcc_knndF.append(accuracy_score(Y_test,Y_predTest_knnd2))\n",
    "\n",
    "#print(Y_predTrain_knnd2)\n",
    "\n",
    "plt.plot(numNeighbors,trainAcc_knnd2,'ro-',numNeighbors,testAcc_knndF,'bv--')\n",
    "plt.legend(['Training Accuracy','Test Accuracy'])\n",
    "plt.xlabel('Number of neighbors')\n",
    "plt.ylabel('Accuracy')\n",
    "\n",
    "print(testAcc_knndF)\n",
    "print(np.mean(testAcc_knndF))"
   ]
  },
  {
   "cell_type": "code",
   "execution_count": 275,
   "metadata": {},
   "outputs": [
    {
     "data": {
      "text/plain": [
       "Text(0, 0.5, 'Accuracy')"
      ]
     },
     "execution_count": 275,
     "metadata": {},
     "output_type": "execute_result"
    },
    {
     "data": {
      "image/png": "[encoded data removed]",
      "text/plain": [
       "<Figure size 432x288 with 1 Axes>"
      ]
     },
     "metadata": {
      "needs_background": "light"
     },
     "output_type": "display_data"
    }
   ],
   "source": [
    "plt.plot(numNeighbors, testAcc_knnd1,'bo-')\n",
    "plt.plot(numNeighbors,testAcc_knnd2,'ko-')\n",
    "plt.plot(numNeighbors,testAcc_knndC,'co-')\n",
    "plt.plot(numNeighbors,testAcc_knndD,'mo-')\n",
    "plt.plot(numNeighbors,testAcc_knndE,'go-')\n",
    "plt.plot(numNeighbors,testAcc_knndF,'ro-')\n",
    "\n",
    "plt.legend(['A','B','C','D','E','F'])\n",
    "plt.xlabel('Number of neighbors')\n",
    "plt.ylabel('Accuracy')"
   ]
  },
  {
   "cell_type": "code",
   "execution_count": null,
   "metadata": {},
   "outputs": [],
   "source": []
  },
  {
   "cell_type": "code",
   "execution_count": null,
   "metadata": {},
   "outputs": [],
   "source": []
  }
 ],
 "metadata": {
  "kernelspec": {
   "display_name": "Python 3",
   "language": "python",
   "name": "python3"
  },
  "language_info": {
   "codemirror_mode": {
    "name": "ipython",
    "version": 3
   },
   "file_extension": ".py",
   "mimetype": "text/x-python",
   "name": "python",
   "nbconvert_exporter": "python",
   "pygments_lexer": "ipython3",
   "version": "3.7.1"
  }
 },
 "nbformat": 4,
 "nbformat_minor": 2
}
