{
 "cells": [
  {
   "cell_type": "code",
   "execution_count": 1,
   "metadata": {},
   "outputs": [],
   "source": [
    "import numpy as np\n",
    "# สร้างเมทริกซ์ 5*5 แบบสุ่ม\n",
    "# หา Transpose matrix ของ A\n",
    "# หา inversa matrix ของ A\n",
    "# หา rank ของ A\n",
    "# สร้างเมทริกซ์ขนาด 5*1 แบบสุ่ม\n",
    "# หาคำตอบ x = A^-1*b\n",
    "# หาค่าประมาณ b_hat = A*x\n",
    "# หาว่าค่า b_hat มีค่าแตกต่างจาก b โดยใช้สูตร\n",
    "# sum square error = sum(b- b_hat) ^2\n",
    "# mean square error = ค่าเฉลี่ยของ sum square error\n",
    "# root mean square error = รากที่สองของ mean square error"
   ]
  },
  {
   "cell_type": "code",
   "execution_count": 6,
   "metadata": {},
   "outputs": [
    {
     "name": "stdout",
     "output_type": "stream",
     "text": [
      "[[2 3 8 0 8]\n",
      " [3 8 9 0 3]\n",
      " [6 5 9 2 2]\n",
      " [4 7 3 8 5]\n",
      " [6 7 1 8 7]]\n"
     ]
    }
   ],
   "source": [
    "# สร้างเมทริกซ์ 5*5 แบบสุ่ม\n",
    "A = np.random.randint(10,size=(5,5))\n",
    "print(A)"
   ]
  },
  {
   "cell_type": "code",
   "execution_count": 7,
   "metadata": {},
   "outputs": [
    {
     "name": "stdout",
     "output_type": "stream",
     "text": [
      "[[2 3 6 4 6]\n",
      " [3 8 5 7 7]\n",
      " [8 9 9 3 1]\n",
      " [0 0 2 8 8]\n",
      " [8 3 2 5 7]]\n"
     ]
    }
   ],
   "source": [
    "# หา Transpose matrix ของ A\n",
    "print(np.transpose(A))"
   ]
  },
  {
   "cell_type": "code",
   "execution_count": 20,
   "metadata": {},
   "outputs": [
    {
     "data": {
      "text/plain": [
       "array([[-0.05602716, -0.04244482,  0.15619694, -0.26825127,  0.22920204],\n",
       "       [-0.08658744,  0.20713073, -0.12224109, -0.05093379,  0.08149406],\n",
       "       [ 0.05772496, -0.05475382,  0.08149406,  0.15895586, -0.17932937],\n",
       "       [ 0.01103565, -0.13179117,  0.04499151,  0.2895798 , -0.17582767],\n",
       "       [ 0.11375212, -0.012309  , -0.07470289, -0.07279287,  0.09146859]])"
      ]
     },
     "execution_count": 20,
     "metadata": {},
     "output_type": "execute_result"
    }
   ],
   "source": [
    "# หา inversa matrix ของ A\n",
    "np.linalg.inv(A)"
   ]
  },
  {
   "cell_type": "code",
   "execution_count": 24,
   "metadata": {},
   "outputs": [
    {
     "data": {
      "text/plain": [
       "5"
      ]
     },
     "execution_count": 24,
     "metadata": {},
     "output_type": "execute_result"
    }
   ],
   "source": [
    "# หา rank ของ A\n",
    "np.linalg.matrix_rank(A)"
   ]
  },
  {
   "cell_type": "code",
   "execution_count": 22,
   "metadata": {},
   "outputs": [
    {
     "name": "stdout",
     "output_type": "stream",
     "text": [
      "[[5]\n",
      " [4]\n",
      " [1]\n",
      " [4]\n",
      " [1]]\n"
     ]
    }
   ],
   "source": [
    "# สร้างเมทริกซ์ขนาด 5*1 แบบสุ่ม\n",
    "B = np.random.randint(10,size=(5,1))\n",
    "print(B)"
   ]
  },
  {
   "cell_type": "code",
   "execution_count": 34,
   "metadata": {},
   "outputs": [
    {
     "name": "stdout",
     "output_type": "stream",
     "text": [
      "[[-0.28013582 -0.21222411  0.78098472 -1.34125637  1.14601019]\n",
      " [-0.34634975  0.82852292 -0.48896435 -0.20373514  0.32597623]\n",
      " [ 0.05772496 -0.05475382  0.08149406  0.15895586 -0.17932937]\n",
      " [ 0.04414261 -0.52716469  0.17996604  1.15831919 -0.7033107 ]\n",
      " [ 0.11375212 -0.012309   -0.07470289 -0.07279287  0.09146859]]\n"
     ]
    }
   ],
   "source": [
    "# หาคำตอบ x = A^-1*b\n",
    "x = np.linalg.inv(A) * B\n",
    "print(x)"
   ]
  },
  {
   "cell_type": "code",
   "execution_count": 40,
   "metadata": {},
   "outputs": [
    {
     "name": "stdout",
     "output_type": "stream",
     "text": [
      "[[-0.56027165 -0.63667233  6.24787776 -0.          9.16808149]\n",
      " [-1.03904924  6.62818336 -4.40067912 -0.          0.97792869]\n",
      " [ 0.34634975 -0.2737691   0.73344652  0.31791171 -0.35865874]\n",
      " [ 0.17657046 -3.6901528   0.53989813  9.26655348 -3.51655348]\n",
      " [ 0.68251273 -0.08616299 -0.07470289 -0.58234295  0.64028014]]\n"
     ]
    }
   ],
   "source": [
    "# หาค่าประมาณ b_hat = A*x\n",
    "b_hat = A*x\n",
    "print(b_hat)"
   ]
  },
  {
   "cell_type": "code",
   "execution_count": 43,
   "metadata": {},
   "outputs": [
    {
     "name": "stdout",
     "output_type": "stream",
     "text": [
      "[236.97178608 170.5263511  142.90193156  35.97453761  65.43065753]\n"
     ]
    }
   ],
   "source": [
    "# หาว่าค่า b_hat มีค่าแตกต่างจาก b โดยใช้สูตร\n",
    "# sum square error = sum(b- b_hat) ^2\n",
    "sum_square_error = sum(B - b_hat)**2\n",
    "print(sum_square_error)"
   ]
  },
  {
   "cell_type": "code",
   "execution_count": 52,
   "metadata": {},
   "outputs": [
    {
     "name": "stdout",
     "output_type": "stream",
     "text": [
      "130.36105277750553\n"
     ]
    }
   ],
   "source": [
    "# mean square error = ค่าเฉลี่ยของ sum square error\n",
    "mean_square_error = sum_square_error.mean()\n",
    "print(mean_square_error)"
   ]
  },
  {
   "cell_type": "code",
   "execution_count": 53,
   "metadata": {},
   "outputs": [
    {
     "name": "stdout",
     "output_type": "stream",
     "text": [
      "11.417576484416713\n"
     ]
    }
   ],
   "source": [
    "# root mean square error = รากที่สองของ mean square error\n",
    "root_square_error = np.math.sqrt(mean_square_error)\n",
    "print(root_square_error)"
   ]
  },
  {
   "cell_type": "code",
   "execution_count": 85,
   "metadata": {},
   "outputs": [
    {
     "data": {
      "text/plain": [
       "1.378195468203506e-30"
      ]
     },
     "execution_count": 85,
     "metadata": {},
     "output_type": "execute_result"
    }
   ],
   "source": [
    "C = np.random.rand(5,3)\n",
    "Ct = C.transpose()\n",
    "CtC = np.matmul(Ct,C)\n",
    "CtC_inv = np.linalg.inv(CtC)\n",
    "II = np.matmul(CtC_inv,CtC)\n",
    "C_pinv = np.matmul(CtC_inv,Ct) # pseudo inverse matrix\n",
    "# คำพยากรณ์\n",
    "beta = np.matmul(C_pinv,C)\n",
    "c_hat2 = np.matmul(C,beta)\n",
    "# residual\n",
    "error = C - c_hat2\n",
    "error = error**2\n",
    "error.sum().mean()"
   ]
  },
  {
   "cell_type": "code",
   "execution_count": 88,
   "metadata": {},
   "outputs": [
    {
     "name": "stdout",
     "output_type": "stream",
     "text": [
      "(5, 3)\n",
      "3\n",
      "2\n",
      "[[0.42061293 0.03052467 0.1831383 ]\n",
      " [0.89451609 0.37583894 0.56580007]\n",
      " [0.46097472 0.27279819 0.91436531]\n",
      " [0.61689638 0.55368653 0.2767655 ]\n",
      " [0.37136502 0.78065961 0.76007624]]\n",
      "[[ 2.24750054e+16  1.87225781e+16  2.84327824e+16]\n",
      " [-1.22656922e+17 -7.19426835e+16 -9.86596364e+16]\n",
      " [ 2.45313844e+17  1.43885367e+17  1.97319273e+17]]\n"
     ]
    }
   ],
   "source": [
    "#Cd = C[:,1] = C[:,-1]\n",
    "Cd = C.copy()\n",
    "print(C.shape)\n",
    "print(np.linalg.matrix_rank(Cd))\n",
    "Cd[:,-2] = 2*Cd[:,-1]\n",
    "print(np.linalg.matrix_rank(Cd))\n",
    "\n",
    "Cd_t = Cd.transpose()\n",
    "Cd_tCd = np.matmul(Cd_t,Cd)\n",
    "Cd_tCd_inv = np.linalg.inv(Cd_tCd)\n",
    "Cd_pinv = np.matmul(Cd_tCd_inv,Cd_t)\n",
    "beta2 = np.matmul(Cd_pinv,C)\n",
    "c_hat_d2 = np.matmul(Cd_pinv,C)\n",
    "print(C)\n",
    "print(c_hat_d2)"
   ]
  },
  {
   "cell_type": "code",
   "execution_count": 89,
   "metadata": {},
   "outputs": [
    {
     "name": "stdout",
     "output_type": "stream",
     "text": [
      "[[0.42061293 0.03052467 0.1831383 ]\n",
      " [0.89451609 0.37583894 0.56580007]\n",
      " [0.46097472 0.27279819 0.91436531]\n",
      " [0.61689638 0.55368653 0.2767655 ]\n",
      " [0.37136502 0.78065961 0.76007624]]\n",
      "[[0.42061293 0.19326092 0.1831383 ]\n",
      " [0.89451609 0.49039642 0.56580007]\n",
      " [0.46097472 0.53313163 0.91436531]\n",
      " [0.61689638 0.28712394 0.2767655 ]\n",
      " [0.37136502 0.4400564  0.76007624]]\n",
      "0.01962974399694684\n"
     ]
    }
   ],
   "source": [
    "CdPinv = np.linalg.pinv(Cd)\n",
    "beta_bdPinv = np.matmul(CdPinv,C)\n",
    "c_hat_new = np.matmul(Cd,beta_bdPinv)\n",
    "print(C)\n",
    "print(c_hat_new)\n",
    "error = ((C-c_hat_new)**2)\n",
    "mse = error.mean()\n",
    "print(mse)"
   ]
  },
  {
   "cell_type": "code",
   "execution_count": 93,
   "metadata": {},
   "outputs": [
    {
     "name": "stdout",
     "output_type": "stream",
     "text": [
      "[[ True  True  True  True  True]\n",
      " [ True  True  True  True  True]\n",
      " [ True  True  True  True  True]\n",
      " [ True  True  True  True  True]\n",
      " [ True  True  True  True  True]]\n",
      "[[0.98698426 0.58854297 0.42839542 0.45973492 0.09929273]\n",
      " [0.45813072 0.97224749 0.20385884 0.35714011 0.45888507]\n",
      " [0.66126696 0.49881784 0.4758392  0.10171298 0.05450564]\n",
      " [0.99051451 0.65070543 0.39218825 0.3047918  0.35720163]\n",
      " [0.47481394 0.74616644 0.16456004 0.15592001 0.8304065 ]]\n",
      "[[0.98698426 0.58854297 0.42839542 0.45973492 0.09929273]\n",
      " [0.45813072 0.97224749 0.20385884 0.35714011 0.45888507]\n",
      " [0.66126696 0.49881784 0.4758392  0.10171298 0.05450564]\n",
      " [0.99051451 0.65070543 0.39218825 0.3047918  0.35720163]\n",
      " [0.47481394 0.74616644 0.16456004 0.15592001 0.8304065 ]]\n"
     ]
    }
   ],
   "source": [
    "A = np.random.rand(5,5)\n",
    "U,S,Vt = np.linalg.svd(A)\n",
    "# U เป็นเมทริกซ์เชิงตั้งฉากที่มีคุณสมบัติ U^T x U = I\n",
    "# V เป็น orthogonal matrix , V^Tx V = I\n",
    "# S เป็น singular matrix ที่สมาชิกในแนวทแยง s11>s22>...srr \n",
    "# เรียก s11 เป็นค่า sigular values\n",
    "UI = np.matmul(U.transpose(),U)\n",
    "VI = np.matmul(Vt,Vt.transpose())\n",
    "SS = np.diag(S)\n",
    "SS\n",
    "\n",
    "US = np.matmul(U,SS)\n",
    "A_1 = np.matmul(US,Vt)\n",
    "print(np.isclose(A,A_1))\n",
    "print(A)\n",
    "print(A_1)"
   ]
  },
  {
   "cell_type": "code",
   "execution_count": 95,
   "metadata": {},
   "outputs": [
    {
     "name": "stdout",
     "output_type": "stream",
     "text": [
      "0.23.4\n"
     ]
    }
   ],
   "source": [
    "# Data Manipulation with Pandas\n",
    "#conda install pandas\n",
    "# การใช้ pandas\n",
    "import pandas\n",
    "print(pandas.__version__)"
   ]
  },
  {
   "cell_type": "code",
   "execution_count": 98,
   "metadata": {},
   "outputs": [],
   "source": [
    "# หรือจใช้ชื่อย่อว่า pd\n",
    "import pandas as pd"
   ]
  },
  {
   "cell_type": "code",
   "execution_count": 99,
   "metadata": {},
   "outputs": [
    {
     "name": "stdout",
     "output_type": "stream",
     "text": [
      "0    0.25\n",
      "1    0.50\n",
      "2    0.75\n",
      "3    1.00\n",
      "dtype: float64\n"
     ]
    }
   ],
   "source": [
    "# Pandas Series เป็นอะเรย์หนึ่งมิติ เราสามารถสร้างได้จาก List หรือ array เช่น\n",
    "data = pd.Series([0.25,0.5,0.75,1.0])\n",
    "print(data)"
   ]
  },
  {
   "cell_type": "code",
   "execution_count": 100,
   "metadata": {},
   "outputs": [
    {
     "name": "stdout",
     "output_type": "stream",
     "text": [
      "[0.25 0.5  0.75 1.  ]\n"
     ]
    }
   ],
   "source": [
    "# การเข้าถึงผ่าน values\n",
    "print(data.values)"
   ]
  },
  {
   "cell_type": "code",
   "execution_count": 101,
   "metadata": {},
   "outputs": [
    {
     "name": "stdout",
     "output_type": "stream",
     "text": [
      "1    0.50\n",
      "2    0.75\n",
      "dtype: float64\n"
     ]
    }
   ],
   "source": [
    "# อ่านต่าดัชนีตัวที่ 1,2 แต่ไม่รวม 3\n",
    "print(data[1:3])"
   ]
  },
  {
   "cell_type": "code",
   "execution_count": 105,
   "metadata": {},
   "outputs": [
    {
     "data": {
      "text/plain": [
       "'b'"
      ]
     },
     "execution_count": 105,
     "metadata": {},
     "output_type": "execute_result"
    }
   ],
   "source": [
    "# index ของสมาชิก ใช้\n",
    "data.index[1]"
   ]
  },
  {
   "cell_type": "code",
   "execution_count": 106,
   "metadata": {},
   "outputs": [],
   "source": [
    "# index อาจไม่จำเป็นต้องเป็นตัวเลขได้\n",
    "data = pd.Series([0.25,0.5,0.75,1.0],\n",
    "index = ['a','b','c','d'])"
   ]
  },
  {
   "cell_type": "code",
   "execution_count": 107,
   "metadata": {},
   "outputs": [
    {
     "name": "stdout",
     "output_type": "stream",
     "text": [
      "Index(['a', 'b', 'c', 'd'], dtype='object')\n"
     ]
    }
   ],
   "source": [
    "print(data.index)"
   ]
  },
  {
   "cell_type": "code",
   "execution_count": 108,
   "metadata": {},
   "outputs": [
    {
     "name": "stdout",
     "output_type": "stream",
     "text": [
      "0.25\n"
     ]
    }
   ],
   "source": [
    "print(data['a'])"
   ]
  },
  {
   "cell_type": "code",
   "execution_count": 122,
   "metadata": {},
   "outputs": [
    {
     "name": "stdout",
     "output_type": "stream",
     "text": [
      "a 0.25\n",
      "b 0.5\n",
      "c 0.75\n",
      "d 1.0\n"
     ]
    }
   ],
   "source": [
    "for i in data.index:\n",
    "    print(i,data[i])"
   ]
  },
  {
   "cell_type": "code",
   "execution_count": 131,
   "metadata": {},
   "outputs": [
    {
     "name": "stdout",
     "output_type": "stream",
     "text": [
      "California    38332521\n",
      "Texas         26448193\n",
      "New York      19651127\n",
      "Florida       19552860\n",
      "Illinois      12882135\n",
      "dtype: int64\n",
      "Index(['California', 'Texas', 'New York', 'Florida', 'Illinois'], dtype='object')\n"
     ]
    }
   ],
   "source": [
    "population_dict = {'California': 38332521,\n",
    "                  'Texas': 26448193,\n",
    "                  'New York': 19651127,\n",
    "                  'Florida': 19552860,\n",
    "                  'Illinois': 12882135}\n",
    "population = pd.Series(population_dict)\n",
    "print(population)\n",
    "print(population.index)"
   ]
  },
  {
   "cell_type": "code",
   "execution_count": 132,
   "metadata": {},
   "outputs": [
    {
     "name": "stdout",
     "output_type": "stream",
     "text": [
      "38332521\n",
      "26448193\n",
      "19651127\n",
      "19552860\n",
      "12882135\n"
     ]
    }
   ],
   "source": [
    "for key in population.index:\n",
    "    print(population[key])"
   ]
  },
  {
   "cell_type": "code",
   "execution_count": 138,
   "metadata": {},
   "outputs": [
    {
     "name": "stdout",
     "output_type": "stream",
     "text": [
      "['California' 'Texas' 'New York' 'Florida' 'Illinois']\n"
     ]
    }
   ],
   "source": [
    "print(population.keys().values)"
   ]
  },
  {
   "cell_type": "code",
   "execution_count": 140,
   "metadata": {},
   "outputs": [
    {
     "name": "stdout",
     "output_type": "stream",
     "text": [
      "0    1\n",
      "1    2\n",
      "2    3\n",
      "3    7\n",
      "dtype: int64\n",
      "[0 1 2 3]\n"
     ]
    }
   ],
   "source": [
    "# กรณีที่สร้างวัตถุจากคลาส\n",
    "# pd.Series(data, index=index)\n",
    "# data อาจเป็น list, นิพจน์ , dixtionary\n",
    "# index เป็น list of index\n",
    "score = pd.Series([1,2,3,7])\n",
    "print(score)\n",
    "print(score.index.values)"
   ]
  },
  {
   "cell_type": "code",
   "execution_count": 142,
   "metadata": {},
   "outputs": [
    {
     "name": "stdout",
     "output_type": "stream",
     "text": [
      "0    1\n",
      "1    1\n",
      "2    1\n",
      "dtype: int64\n",
      "[0 1 2 3 4 5 6 7 8 9]\n",
      "0    1\n",
      "1    1\n",
      "2    1\n",
      "3    1\n",
      "4    1\n",
      "5    1\n",
      "6    1\n",
      "7    1\n",
      "8    1\n",
      "9    1\n",
      "dtype: int64\n"
     ]
    }
   ],
   "source": [
    "# กำนหดให้มีค่าเดิมทุกตัว\n",
    "ones = pd.Series(1,index=[0,1,2])\n",
    "print(ones)\n",
    "idx = np.arange(0,10)\n",
    "print(idx)\n",
    "ten_ones = pd.Series(1,index=idx)\n",
    "print(ten_ones)"
   ]
  },
  {
   "cell_type": "code",
   "execution_count": 143,
   "metadata": {},
   "outputs": [
    {
     "name": "stdout",
     "output_type": "stream",
     "text": [
      "Jphn     40\n",
      "Alice    50\n",
      "dtype: int64\n",
      "2    a\n",
      "1    b\n",
      "3    c\n",
      "dtype: object\n"
     ]
    }
   ],
   "source": [
    "# create from dictionary\n",
    "students = pd.Series({'Jphn': 40,'Alice': 50})\n",
    "print(students)\n",
    "three = pd.Series({2:'a',1:'b',3:'c'})\n",
    "print(three)"
   ]
  },
  {
   "cell_type": "code",
   "execution_count": 144,
   "metadata": {},
   "outputs": [],
   "source": [
    "area_dict = {'California': 423967,\n",
    "            'Texas': 695662,\n",
    "            'New York': 141297,\n",
    "            'Florida': 170312,\n",
    "            'Illinois': 149995}\n",
    "area = pd.Series(area_dict)"
   ]
  },
  {
   "cell_type": "code",
   "execution_count": 145,
   "metadata": {},
   "outputs": [],
   "source": [
    "state = pd.DataFrame({'population': population,\n",
    "                     'area': area})"
   ]
  },
  {
   "cell_type": "code",
   "execution_count": 147,
   "metadata": {},
   "outputs": [
    {
     "data": {
      "text/html": [
       "<div>\n",
       "<style scoped>\n",
       "    .dataframe tbody tr th:only-of-type {\n",
       "        vertical-align: middle;\n",
       "    }\n",
       "\n",
       "    .dataframe tbody tr th {\n",
       "        vertical-align: top;\n",
       "    }\n",
       "\n",
       "    .dataframe thead th {\n",
       "        text-align: right;\n",
       "    }\n",
       "</style>\n",
       "<table border=\"1\" class=\"dataframe\">\n",
       "  <thead>\n",
       "    <tr style=\"text-align: right;\">\n",
       "      <th></th>\n",
       "      <th>population</th>\n",
       "      <th>area</th>\n",
       "    </tr>\n",
       "  </thead>\n",
       "  <tbody>\n",
       "    <tr>\n",
       "      <th>California</th>\n",
       "      <td>38332521</td>\n",
       "      <td>423967</td>\n",
       "    </tr>\n",
       "    <tr>\n",
       "      <th>Texas</th>\n",
       "      <td>26448193</td>\n",
       "      <td>695662</td>\n",
       "    </tr>\n",
       "    <tr>\n",
       "      <th>New York</th>\n",
       "      <td>19651127</td>\n",
       "      <td>141297</td>\n",
       "    </tr>\n",
       "    <tr>\n",
       "      <th>Florida</th>\n",
       "      <td>19552860</td>\n",
       "      <td>170312</td>\n",
       "    </tr>\n",
       "    <tr>\n",
       "      <th>Illinois</th>\n",
       "      <td>12882135</td>\n",
       "      <td>149995</td>\n",
       "    </tr>\n",
       "  </tbody>\n",
       "</table>\n",
       "</div>"
      ],
      "text/plain": [
       "            population    area\n",
       "California    38332521  423967\n",
       "Texas         26448193  695662\n",
       "New York      19651127  141297\n",
       "Florida       19552860  170312\n",
       "Illinois      12882135  149995"
      ]
     },
     "execution_count": 147,
     "metadata": {},
     "output_type": "execute_result"
    }
   ],
   "source": [
    "state"
   ]
  },
  {
   "cell_type": "code",
   "execution_count": 148,
   "metadata": {},
   "outputs": [
    {
     "data": {
      "text/plain": [
       "Index(['California', 'Texas', 'New York', 'Florida', 'Illinois'], dtype='object')"
      ]
     },
     "execution_count": 148,
     "metadata": {},
     "output_type": "execute_result"
    }
   ],
   "source": [
    "state.index"
   ]
  },
  {
   "cell_type": "code",
   "execution_count": 158,
   "metadata": {},
   "outputs": [
    {
     "name": "stdout",
     "output_type": "stream",
     "text": [
      "Index(['population', 'area'], dtype='object')\n",
      "population\n",
      "area\n"
     ]
    }
   ],
   "source": [
    "print(state.columns)\n",
    "print(state.columns[0])\n",
    "print(state.columns[1])"
   ]
  },
  {
   "cell_type": "code",
   "execution_count": 165,
   "metadata": {},
   "outputs": [
    {
     "data": {
      "text/html": [
       "<div>\n",
       "<style scoped>\n",
       "    .dataframe tbody tr th:only-of-type {\n",
       "        vertical-align: middle;\n",
       "    }\n",
       "\n",
       "    .dataframe tbody tr th {\n",
       "        vertical-align: top;\n",
       "    }\n",
       "\n",
       "    .dataframe thead th {\n",
       "        text-align: right;\n",
       "    }\n",
       "</style>\n",
       "<table border=\"1\" class=\"dataframe\">\n",
       "  <thead>\n",
       "    <tr style=\"text-align: right;\">\n",
       "      <th></th>\n",
       "      <th>population</th>\n",
       "      <th>area</th>\n",
       "    </tr>\n",
       "  </thead>\n",
       "  <tbody>\n",
       "    <tr>\n",
       "      <th>California</th>\n",
       "      <td>38332521</td>\n",
       "      <td>423967</td>\n",
       "    </tr>\n",
       "    <tr>\n",
       "      <th>Texas</th>\n",
       "      <td>26448193</td>\n",
       "      <td>695662</td>\n",
       "    </tr>\n",
       "    <tr>\n",
       "      <th>New York</th>\n",
       "      <td>19651127</td>\n",
       "      <td>141297</td>\n",
       "    </tr>\n",
       "    <tr>\n",
       "      <th>Florida</th>\n",
       "      <td>19552860</td>\n",
       "      <td>170312</td>\n",
       "    </tr>\n",
       "  </tbody>\n",
       "</table>\n",
       "</div>"
      ],
      "text/plain": [
       "            population    area\n",
       "California    38332521  423967\n",
       "Texas         26448193  695662\n",
       "New York      19651127  141297\n",
       "Florida       19552860  170312"
      ]
     },
     "execution_count": 165,
     "metadata": {},
     "output_type": "execute_result"
    }
   ],
   "source": [
    "state.loc['California':'Florida']"
   ]
  },
  {
   "cell_type": "code",
   "execution_count": 166,
   "metadata": {},
   "outputs": [
    {
     "data": {
      "text/plain": [
       "California    38332521\n",
       "Texas         26448193\n",
       "New York      19651127\n",
       "Florida       19552860\n",
       "Illinois      12882135\n",
       "Name: population, dtype: int64"
      ]
     },
     "execution_count": 166,
     "metadata": {},
     "output_type": "execute_result"
    }
   ],
   "source": [
    "state['population']"
   ]
  },
  {
   "cell_type": "code",
   "execution_count": 171,
   "metadata": {},
   "outputs": [
    {
     "data": {
      "text/plain": [
       "California    423967\n",
       "Texas         695662\n",
       "New York      141297\n",
       "Florida       170312\n",
       "Illinois      149995\n",
       "Name: area, dtype: int64"
      ]
     },
     "execution_count": 171,
     "metadata": {},
     "output_type": "execute_result"
    }
   ],
   "source": [
    "state['area']"
   ]
  },
  {
   "cell_type": "code",
   "execution_count": 168,
   "metadata": {},
   "outputs": [
    {
     "data": {
      "text/html": [
       "<div>\n",
       "<style scoped>\n",
       "    .dataframe tbody tr th:only-of-type {\n",
       "        vertical-align: middle;\n",
       "    }\n",
       "\n",
       "    .dataframe tbody tr th {\n",
       "        vertical-align: top;\n",
       "    }\n",
       "\n",
       "    .dataframe thead th {\n",
       "        text-align: right;\n",
       "    }\n",
       "</style>\n",
       "<table border=\"1\" class=\"dataframe\">\n",
       "  <thead>\n",
       "    <tr style=\"text-align: right;\">\n",
       "      <th></th>\n",
       "      <th>population</th>\n",
       "      <th>area</th>\n",
       "    </tr>\n",
       "  </thead>\n",
       "  <tbody>\n",
       "    <tr>\n",
       "      <th>California</th>\n",
       "      <td>38332521</td>\n",
       "      <td>423967</td>\n",
       "    </tr>\n",
       "    <tr>\n",
       "      <th>Texas</th>\n",
       "      <td>26448193</td>\n",
       "      <td>695662</td>\n",
       "    </tr>\n",
       "    <tr>\n",
       "      <th>New York</th>\n",
       "      <td>19651127</td>\n",
       "      <td>141297</td>\n",
       "    </tr>\n",
       "    <tr>\n",
       "      <th>Florida</th>\n",
       "      <td>19552860</td>\n",
       "      <td>170312</td>\n",
       "    </tr>\n",
       "    <tr>\n",
       "      <th>Illinois</th>\n",
       "      <td>12882135</td>\n",
       "      <td>149995</td>\n",
       "    </tr>\n",
       "  </tbody>\n",
       "</table>\n",
       "</div>"
      ],
      "text/plain": [
       "            population    area\n",
       "California    38332521  423967\n",
       "Texas         26448193  695662\n",
       "New York      19651127  141297\n",
       "Florida       19552860  170312\n",
       "Illinois      12882135  149995"
      ]
     },
     "execution_count": 168,
     "metadata": {},
     "output_type": "execute_result"
    }
   ],
   "source": [
    "state[['population','area']]"
   ]
  },
  {
   "cell_type": "code",
   "execution_count": 173,
   "metadata": {},
   "outputs": [
    {
     "data": {
      "text/html": [
       "<div>\n",
       "<style scoped>\n",
       "    .dataframe tbody tr th:only-of-type {\n",
       "        vertical-align: middle;\n",
       "    }\n",
       "\n",
       "    .dataframe tbody tr th {\n",
       "        vertical-align: top;\n",
       "    }\n",
       "\n",
       "    .dataframe thead th {\n",
       "        text-align: right;\n",
       "    }\n",
       "</style>\n",
       "<table border=\"1\" class=\"dataframe\">\n",
       "  <thead>\n",
       "    <tr style=\"text-align: right;\">\n",
       "      <th></th>\n",
       "      <th>population</th>\n",
       "      <th>area</th>\n",
       "    </tr>\n",
       "  </thead>\n",
       "  <tbody>\n",
       "    <tr>\n",
       "      <th>California</th>\n",
       "      <td>38332521</td>\n",
       "      <td>423967</td>\n",
       "    </tr>\n",
       "    <tr>\n",
       "      <th>Texas</th>\n",
       "      <td>26448193</td>\n",
       "      <td>695662</td>\n",
       "    </tr>\n",
       "    <tr>\n",
       "      <th>New York</th>\n",
       "      <td>19651127</td>\n",
       "      <td>141297</td>\n",
       "    </tr>\n",
       "    <tr>\n",
       "      <th>Florida</th>\n",
       "      <td>19552860</td>\n",
       "      <td>170312</td>\n",
       "    </tr>\n",
       "    <tr>\n",
       "      <th>Illinois</th>\n",
       "      <td>12882135</td>\n",
       "      <td>149995</td>\n",
       "    </tr>\n",
       "  </tbody>\n",
       "</table>\n",
       "</div>"
      ],
      "text/plain": [
       "            population    area\n",
       "California    38332521  423967\n",
       "Texas         26448193  695662\n",
       "New York      19651127  141297\n",
       "Florida       19552860  170312\n",
       "Illinois      12882135  149995"
      ]
     },
     "execution_count": 173,
     "metadata": {},
     "output_type": "execute_result"
    }
   ],
   "source": [
    "state[state.columns]"
   ]
  },
  {
   "cell_type": "code",
   "execution_count": 175,
   "metadata": {},
   "outputs": [
    {
     "name": "stdout",
     "output_type": "stream",
     "text": [
      "38332521\n",
      "26448193\n",
      "19651127\n",
      "19552860\n",
      "12882135\n",
      "--------\n",
      "423967\n",
      "695662\n",
      "141297\n",
      "170312\n",
      "149995\n",
      "--------\n"
     ]
    }
   ],
   "source": [
    "for e in state.columns:\n",
    "    for c in state[e]:\n",
    "        print(c)\n",
    "    print('--------')"
   ]
  },
  {
   "cell_type": "code",
   "execution_count": null,
   "metadata": {},
   "outputs": [],
   "source": []
  }
 ],
 "metadata": {
  "kernelspec": {
   "display_name": "Python 3",
   "language": "python",
   "name": "python3"
  },
  "language_info": {
   "codemirror_mode": {
    "name": "ipython",
    "version": 3
   },
   "file_extension": ".py",
   "mimetype": "text/x-python",
   "name": "python",
   "nbconvert_exporter": "python",
   "pygments_lexer": "ipython3",
   "version": "3.7.1"
  }
 },
 "nbformat": 4,
 "nbformat_minor": 2
}
