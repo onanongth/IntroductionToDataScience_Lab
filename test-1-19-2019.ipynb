{
 "cells": [
  {
   "cell_type": "code",
   "execution_count": 1,
   "metadata": {},
   "outputs": [
    {
     "name": "stdout",
     "output_type": "stream",
     "text": [
      "hello\n"
     ]
    }
   ],
   "source": [
    "print(\"hello\")\n",
    "x=5"
   ]
  },
  {
   "cell_type": "code",
   "execution_count": 2,
   "metadata": {},
   "outputs": [
    {
     "data": {
      "text/plain": [
       "5"
      ]
     },
     "execution_count": 2,
     "metadata": {},
     "output_type": "execute_result"
    }
   ],
   "source": [
    "x"
   ]
  },
  {
   "cell_type": "code",
   "execution_count": 3,
   "metadata": {},
   "outputs": [],
   "source": [
    "a = \"Moo\"\n",
    "b = \"Mee\""
   ]
  },
  {
   "cell_type": "code",
   "execution_count": 4,
   "metadata": {},
   "outputs": [
    {
     "data": {
      "text/plain": [
       "'MooMee'"
      ]
     },
     "execution_count": 4,
     "metadata": {},
     "output_type": "execute_result"
    }
   ],
   "source": [
    "a+b"
   ]
  },
  {
   "cell_type": "code",
   "execution_count": 5,
   "metadata": {},
   "outputs": [],
   "source": [
    "a = 1\n",
    "b = 0.3\n",
    "c = a\n",
    "d = [2,3]"
   ]
  },
  {
   "cell_type": "code",
   "execution_count": 6,
   "metadata": {},
   "outputs": [
    {
     "name": "stdout",
     "output_type": "stream",
     "text": [
      "<class 'int'>\n",
      "<class 'float'>\n",
      "<class 'int'>\n",
      "<class 'list'>\n"
     ]
    }
   ],
   "source": [
    "print(type(a))\n",
    "print(type(b))\n",
    "print(type(c))\n",
    "print(type(d))"
   ]
  },
  {
   "cell_type": "code",
   "execution_count": 9,
   "metadata": {},
   "outputs": [
    {
     "name": "stdout",
     "output_type": "stream",
     "text": [
      "number1 =  15\n",
      "money =  25000.5\n",
      "Your name is =  John\n",
      "t =  True\n",
      "not_t =  False\n",
      "<class 'int'>\n",
      "<class 'str'>\n",
      "<class 'str'>\n",
      "<class 'bool'>\n",
      "yes, the number1 is int.\n"
     ]
    }
   ],
   "source": [
    "number1 = 15\n",
    "money = 25000.50\n",
    "name = \"John\"\n",
    "c = 'A'\n",
    "t = True\n",
    "f = False\n",
    "not_t = not(t)\n",
    "\n",
    "print(\"number1 = \", number1)\n",
    "print(\"money = \", money)\n",
    "print(\"Your name is = \", name)\n",
    "print(\"t = \", t)\n",
    "print(\"not_t = \", not_t)\n",
    "print(type(number1))\n",
    "print(type(name))\n",
    "print(type(c))\n",
    "print(type(t))\n",
    "if(type(number1) is int):\n",
    "    print(\"yes, the number1 is int.\")"
   ]
  },
  {
   "cell_type": "code",
   "execution_count": 32,
   "metadata": {},
   "outputs": [
    {
     "name": "stdin",
     "output_type": "stream",
     "text": [
      "number =  5\n"
     ]
    },
    {
     "name": "stdout",
     "output_type": "stream",
     "text": [
      "5 x 0 = 0\n",
      "5 x 1 = 5\n",
      "5 x 2 = 10\n",
      "5 x 3 = 15\n",
      "5 x 4 = 20\n",
      "5 x 5 = 25\n",
      "5 x 6 = 30\n",
      "5 x 7 = 35\n",
      "5 x 8 = 40\n",
      "5 x 9 = 45\n",
      "5 x 10 = 50\n",
      "5 x 11 = 55\n"
     ]
    }
   ],
   "source": [
    "a = int(input(\"number = \"))\n",
    "i = 1\n",
    "for i in range(12):\n",
    "    print(a , \"x\" , i , \"=\" , (a*i))"
   ]
  },
  {
   "cell_type": "code",
   "execution_count": 33,
   "metadata": {},
   "outputs": [
    {
     "name": "stdout",
     "output_type": "stream",
     "text": [
      "(1, 2, 3, 5, 4, 5, 3, 7, 8, 5)\n",
      "1 2\n",
      "The number of element 10\n",
      "The number of time 3 appears in a_tuple is  2\n",
      "The first occurence of value 5 is found at  3\n",
      "Looping in the tuple\n",
      "1\n",
      "2\n",
      "3\n",
      "5\n",
      "4\n",
      "5\n",
      "3\n",
      "7\n",
      "8\n",
      "5\n"
     ]
    }
   ],
   "source": [
    "a_tuple = (1,2,3,5,4,5,3,7,8,5)\n",
    "print(a_tuple)\n",
    "print(a_tuple[0],a_tuple[1])\n",
    "print(\"The number of element\",len(a_tuple))\n",
    "print(\"The number of time 3 appears in a_tuple is \", a_tuple.count(3))\n",
    "print(\"The first occurence of value 5 is found at \",a_tuple.index(5))\n",
    "print(\"Looping in the tuple\")\n",
    "for i in range(len(a_tuple)):\n",
    "    print(a_tuple[i])"
   ]
  },
  {
   "cell_type": "code",
   "execution_count": 44,
   "metadata": {},
   "outputs": [
    {
     "name": "stdout",
     "output_type": "stream",
     "text": [
      "<class 'dict'>\n",
      "{'brand': 'Food', 'model': 'Mustang', 'year': 1964}\n",
      "Mustang\n",
      "1964\n",
      "{'brand': 'Food', 'model': 'Mustang', 'year': 1964, 'Age': 8}\n",
      "Food\n",
      "Mustang\n",
      "1964\n",
      "8\n",
      "=== show all items,(key,value)\n",
      "brand Food\n",
      "model Mustang\n",
      "year 1964\n",
      "Age 8\n"
     ]
    }
   ],
   "source": [
    "my_dict = {}\n",
    "print(type(my_dict))\n",
    "thisdict = {\n",
    "    \"brand\": \"Food\",\n",
    "    \"model\": \"Mustang\",\n",
    "    \"year\": 1964\n",
    "}\n",
    "print(thisdict)\n",
    "#การเข้าถึงผ่านคีย์จะคืนค่ามาให้\n",
    "print(thisdict[\"model\"])\n",
    "print(thisdict[\"year\"])\n",
    "#การเพิ่มคีย์ในพจณานุกรม\n",
    "thisdict[\"Age\"] = 8\n",
    "print(thisdict)\n",
    "#การปริ้นค่าทุกค่าใน dict\n",
    "for e in thisdict:\n",
    "    print(thisdict[e])\n",
    "#การแสดงแบบ item ที่คู่(คีย์,ค่า)\n",
    "print(\"=== show all items,(key,value)\")\n",
    "for key,value in thisdict.items():\n",
    "    print(key,value)"
   ]
  },
  {
   "cell_type": "code",
   "execution_count": 49,
   "metadata": {},
   "outputs": [
    {
     "name": "stdout",
     "output_type": "stream",
     "text": [
      "[{'id': 1, 'name': 'John', 'point': 200}, {'id': 2, 'name': 'Jimmy', 'point': 300}, {'id': 3, 'name': 'Peter', 'point': 250}, {'id': 4, 'name': 'Jiant', 'point': 150}]\n",
      "{'id': 1, 'name': 'John', 'point': 200}\n",
      "{'id': 2, 'name': 'Jimmy', 'point': 300}\n",
      "{'id': 3, 'name': 'Peter', 'point': 250}\n",
      "{'id': 4, 'name': 'Jiant', 'point': 150}\n",
      "-----\n",
      "<class 'list'>\n",
      "{'id': 2, 'name': 'Jimmy', 'point': 300}\n"
     ]
    },
    {
     "data": {
      "text/plain": [
       "[{'id': 1, 'name': 'John', 'point': 200},\n",
       " {'id': 2, 'name': 'Jimmy', 'point': 300},\n",
       " {'id': 3, 'name': 'Peter', 'point': 250}]"
      ]
     },
     "execution_count": 49,
     "metadata": {},
     "output_type": "execute_result"
    }
   ],
   "source": [
    "users = [ {\"id\":1,\"name\":\"John\",\"point\":200},\n",
    "          {\"id\":2,\"name\":\"Jimmy\",\"point\":300},\n",
    "          {\"id\":3,\"name\":\"Peter\",\"point\":250},\n",
    "          {\"id\":4,\"name\":\"Jiant\",\"point\":150}\n",
    "        ]\n",
    "print(users)\n",
    "users[0][\"name\"]\n",
    "for u in users:\n",
    "    print(u)\n",
    "print(\"-----\")\n",
    "print(type(users))\n",
    "#searching\n",
    "print(next(item for item in users if item[\"name\"] == \"Jimmy\"))\n",
    "#การใช้ map ผ่าน Lambda, ค่าที่ส่งไปคือ usres แล้ว users จะไปแทน x แล้วคืนค่าเป็นค่าของ id\n",
    "keys = map(lambda x: x['id'],users)\n",
    "list(keys)\n",
    "values = map(lambda x: x['name'],users)\n",
    "list(values)\n",
    "#ค้นหาคนที่ชื่อ Jimmy ผ่าน filter\n",
    "jimmy_user = filter(lambda x: x['name'] == 'Jimmy',users)\n",
    "list(jimmy_user)\n",
    "#ค้นหาคนที่มีคะแนนตั้งแต่ 200 ขึ้นไป\n",
    "high_point = filter(lambda x: x['point'] >= 200,users)\n",
    "list(high_point)"
   ]
  },
  {
   "cell_type": "code",
   "execution_count": null,
   "metadata": {},
   "outputs": [],
   "source": []
  },
  {
   "cell_type": "code",
   "execution_count": null,
   "metadata": {},
   "outputs": [],
   "source": []
  }
 ],
 "metadata": {
  "kernelspec": {
   "display_name": "Python 3",
   "language": "python",
   "name": "python3"
  },
  "language_info": {
   "codemirror_mode": {
    "name": "ipython",
    "version": 3
   },
   "file_extension": ".py",
   "mimetype": "text/x-python",
   "name": "python",
   "nbconvert_exporter": "python",
   "pygments_lexer": "ipython3",
   "version": "3.7.1"
  }
 },
 "nbformat": 4,
 "nbformat_minor": 2
}
